{
  "nbformat": 4,
  "nbformat_minor": 0,
  "metadata": {
    "colab": {
      "provenance": [],
      "gpuType": "T4"
    },
    "kernelspec": {
      "name": "python3",
      "display_name": "Python 3"
    },
    "language_info": {
      "name": "python"
    },
    "accelerator": "GPU",
    "gpuClass": "standard"
  },
  "cells": [
    {
      "cell_type": "code",
      "execution_count": null,
      "metadata": {
        "colab": {
          "base_uri": "https://localhost:8080/"
        },
        "id": "VAEpgibEG1cX",
        "outputId": "fe6205d9-8576-432f-8543-7ced7945f665"
      },
      "outputs": [
        {
          "output_type": "stream",
          "name": "stdout",
          "text": [
            "Looking in indexes: https://pypi.org/simple, https://us-python.pkg.dev/colab-wheels/public/simple/\n",
            "Looking in links: https://data.dgl.ai/wheels/repo.html\n",
            "Collecting dgl\n",
            "  Downloading dgl-1.1.0-cp310-cp310-manylinux1_x86_64.whl (5.9 MB)\n",
            "\u001b[2K     \u001b[90m━━━━━━━━━━━━━━━━━━━━━━━━━━━━━━━━━━━━━━━━\u001b[0m \u001b[32m5.9/5.9 MB\u001b[0m \u001b[31m30.0 MB/s\u001b[0m eta \u001b[36m0:00:00\u001b[0m\n",
            "\u001b[?25hRequirement already satisfied: numpy>=1.14.0 in /usr/local/lib/python3.10/dist-packages (from dgl) (1.22.4)\n",
            "Requirement already satisfied: scipy>=1.1.0 in /usr/local/lib/python3.10/dist-packages (from dgl) (1.10.1)\n",
            "Requirement already satisfied: networkx>=2.1 in /usr/local/lib/python3.10/dist-packages (from dgl) (3.1)\n",
            "Requirement already satisfied: requests>=2.19.0 in /usr/local/lib/python3.10/dist-packages (from dgl) (2.27.1)\n",
            "Requirement already satisfied: tqdm in /usr/local/lib/python3.10/dist-packages (from dgl) (4.65.0)\n",
            "Requirement already satisfied: psutil>=5.8.0 in /usr/local/lib/python3.10/dist-packages (from dgl) (5.9.5)\n",
            "Requirement already satisfied: urllib3<1.27,>=1.21.1 in /usr/local/lib/python3.10/dist-packages (from requests>=2.19.0->dgl) (1.26.15)\n",
            "Requirement already satisfied: certifi>=2017.4.17 in /usr/local/lib/python3.10/dist-packages (from requests>=2.19.0->dgl) (2022.12.7)\n",
            "Requirement already satisfied: charset-normalizer~=2.0.0 in /usr/local/lib/python3.10/dist-packages (from requests>=2.19.0->dgl) (2.0.12)\n",
            "Requirement already satisfied: idna<4,>=2.5 in /usr/local/lib/python3.10/dist-packages (from requests>=2.19.0->dgl) (3.4)\n",
            "Installing collected packages: dgl\n",
            "Successfully installed dgl-1.1.0\n",
            "Looking in indexes: https://pypi.org/simple, https://us-python.pkg.dev/colab-wheels/public/simple/\n",
            "Looking in links: https://data.dgl.ai/wheels-test/repo.html\n",
            "Collecting dglgo\n",
            "  Downloading dglgo-0.0.2-py3-none-any.whl (63 kB)\n",
            "\u001b[2K     \u001b[90m━━━━━━━━━━━━━━━━━━━━━━━━━━━━━━━━━━━━━━━━\u001b[0m \u001b[32m63.5/63.5 kB\u001b[0m \u001b[31m4.0 MB/s\u001b[0m eta \u001b[36m0:00:00\u001b[0m\n",
            "\u001b[?25hRequirement already satisfied: typer>=0.4.0 in /usr/local/lib/python3.10/dist-packages (from dglgo) (0.7.0)\n",
            "Collecting isort>=5.10.1 (from dglgo)\n",
            "  Downloading isort-5.12.0-py3-none-any.whl (91 kB)\n",
            "\u001b[2K     \u001b[90m━━━━━━━━━━━━━━━━━━━━━━━━━━━━━━━━━━━━━━━━\u001b[0m \u001b[32m91.2/91.2 kB\u001b[0m \u001b[31m7.1 MB/s\u001b[0m eta \u001b[36m0:00:00\u001b[0m\n",
            "\u001b[?25hCollecting autopep8>=1.6.0 (from dglgo)\n",
            "  Downloading autopep8-2.0.2-py2.py3-none-any.whl (45 kB)\n",
            "\u001b[2K     \u001b[90m━━━━━━━━━━━━━━━━━━━━━━━━━━━━━━━━━━━━━━━━\u001b[0m \u001b[32m45.2/45.2 kB\u001b[0m \u001b[31m6.5 MB/s\u001b[0m eta \u001b[36m0:00:00\u001b[0m\n",
            "\u001b[?25hCollecting numpydoc>=1.1.0 (from dglgo)\n",
            "  Downloading numpydoc-1.5.0-py3-none-any.whl (52 kB)\n",
            "\u001b[2K     \u001b[90m━━━━━━━━━━━━━━━━━━━━━━━━━━━━━━━━━━━━━━━━\u001b[0m \u001b[32m52.4/52.4 kB\u001b[0m \u001b[31m5.8 MB/s\u001b[0m eta \u001b[36m0:00:00\u001b[0m\n",
            "\u001b[?25hRequirement already satisfied: pydantic>=1.9.0 in /usr/local/lib/python3.10/dist-packages (from dglgo) (1.10.7)\n",
            "Collecting ruamel.yaml>=0.17.20 (from dglgo)\n",
            "  Downloading ruamel.yaml-0.17.26-py3-none-any.whl (109 kB)\n",
            "\u001b[2K     \u001b[90m━━━━━━━━━━━━━━━━━━━━━━━━━━━━━━━━━━━━━━\u001b[0m \u001b[32m109.1/109.1 kB\u001b[0m \u001b[31m15.2 MB/s\u001b[0m eta \u001b[36m0:00:00\u001b[0m\n",
            "\u001b[?25hRequirement already satisfied: PyYAML>=5.1 in /usr/local/lib/python3.10/dist-packages (from dglgo) (6.0)\n",
            "Collecting ogb>=1.3.3 (from dglgo)\n",
            "  Downloading ogb-1.3.6-py3-none-any.whl (78 kB)\n",
            "\u001b[2K     \u001b[90m━━━━━━━━━━━━━━━━━━━━━━━━━━━━━━━━━━━━━━━━\u001b[0m \u001b[32m78.8/78.8 kB\u001b[0m \u001b[31m8.7 MB/s\u001b[0m eta \u001b[36m0:00:00\u001b[0m\n",
            "\u001b[?25hCollecting rdkit-pypi (from dglgo)\n",
            "  Downloading rdkit_pypi-2022.9.5-cp310-cp310-manylinux_2_17_x86_64.manylinux2014_x86_64.whl (29.4 MB)\n",
            "\u001b[2K     \u001b[90m━━━━━━━━━━━━━━━━━━━━━━━━━━━━━━━━━━━━━━━━\u001b[0m \u001b[32m29.4/29.4 MB\u001b[0m \u001b[31m41.5 MB/s\u001b[0m eta \u001b[36m0:00:00\u001b[0m\n",
            "\u001b[?25hRequirement already satisfied: scikit-learn>=0.20.0 in /usr/local/lib/python3.10/dist-packages (from dglgo) (1.2.2)\n",
            "Collecting pycodestyle>=2.10.0 (from autopep8>=1.6.0->dglgo)\n",
            "  Downloading pycodestyle-2.10.0-py2.py3-none-any.whl (41 kB)\n",
            "\u001b[2K     \u001b[90m━━━━━━━━━━━━━━━━━━━━━━━━━━━━━━━━━━━━━━━━\u001b[0m \u001b[32m41.3/41.3 kB\u001b[0m \u001b[31m5.9 MB/s\u001b[0m eta \u001b[36m0:00:00\u001b[0m\n",
            "\u001b[?25hRequirement already satisfied: tomli in /usr/local/lib/python3.10/dist-packages (from autopep8>=1.6.0->dglgo) (2.0.1)\n",
            "Collecting sphinx>=4.2 (from numpydoc>=1.1.0->dglgo)\n",
            "  Downloading sphinx-7.0.1-py3-none-any.whl (3.0 MB)\n",
            "\u001b[2K     \u001b[90m━━━━━━━━━━━━━━━━━━━━━━━━━━━━━━━━━━━━━━━━\u001b[0m \u001b[32m3.0/3.0 MB\u001b[0m \u001b[31m102.7 MB/s\u001b[0m eta \u001b[36m0:00:00\u001b[0m\n",
            "\u001b[?25hRequirement already satisfied: Jinja2>=2.10 in /usr/local/lib/python3.10/dist-packages (from numpydoc>=1.1.0->dglgo) (3.1.2)\n",
            "Requirement already satisfied: torch>=1.6.0 in /usr/local/lib/python3.10/dist-packages (from ogb>=1.3.3->dglgo) (2.0.1+cu118)\n",
            "Requirement already satisfied: numpy>=1.16.0 in /usr/local/lib/python3.10/dist-packages (from ogb>=1.3.3->dglgo) (1.22.4)\n",
            "Requirement already satisfied: tqdm>=4.29.0 in /usr/local/lib/python3.10/dist-packages (from ogb>=1.3.3->dglgo) (4.65.0)\n",
            "Requirement already satisfied: pandas>=0.24.0 in /usr/local/lib/python3.10/dist-packages (from ogb>=1.3.3->dglgo) (1.5.3)\n",
            "Requirement already satisfied: six>=1.12.0 in /usr/local/lib/python3.10/dist-packages (from ogb>=1.3.3->dglgo) (1.16.0)\n",
            "Requirement already satisfied: urllib3>=1.24.0 in /usr/local/lib/python3.10/dist-packages (from ogb>=1.3.3->dglgo) (1.26.15)\n",
            "Collecting outdated>=0.2.0 (from ogb>=1.3.3->dglgo)\n",
            "  Downloading outdated-0.2.2-py2.py3-none-any.whl (7.5 kB)\n",
            "Requirement already satisfied: typing-extensions>=4.2.0 in /usr/local/lib/python3.10/dist-packages (from pydantic>=1.9.0->dglgo) (4.5.0)\n",
            "Collecting ruamel.yaml.clib>=0.2.7 (from ruamel.yaml>=0.17.20->dglgo)\n",
            "  Downloading ruamel.yaml.clib-0.2.7-cp310-cp310-manylinux_2_17_x86_64.manylinux2014_x86_64.manylinux_2_24_x86_64.whl (485 kB)\n",
            "\u001b[2K     \u001b[90m━━━━━━━━━━━━━━━━━━━━━━━━━━━━━━━━━━━━━━\u001b[0m \u001b[32m485.6/485.6 kB\u001b[0m \u001b[31m36.0 MB/s\u001b[0m eta \u001b[36m0:00:00\u001b[0m\n",
            "\u001b[?25hRequirement already satisfied: scipy>=1.3.2 in /usr/local/lib/python3.10/dist-packages (from scikit-learn>=0.20.0->dglgo) (1.10.1)\n",
            "Requirement already satisfied: joblib>=1.1.1 in /usr/local/lib/python3.10/dist-packages (from scikit-learn>=0.20.0->dglgo) (1.2.0)\n",
            "Requirement already satisfied: threadpoolctl>=2.0.0 in /usr/local/lib/python3.10/dist-packages (from scikit-learn>=0.20.0->dglgo) (3.1.0)\n",
            "Requirement already satisfied: click<9.0.0,>=7.1.1 in /usr/local/lib/python3.10/dist-packages (from typer>=0.4.0->dglgo) (8.1.3)\n",
            "Requirement already satisfied: Pillow in /usr/local/lib/python3.10/dist-packages (from rdkit-pypi->dglgo) (8.4.0)\n",
            "Requirement already satisfied: MarkupSafe>=2.0 in /usr/local/lib/python3.10/dist-packages (from Jinja2>=2.10->numpydoc>=1.1.0->dglgo) (2.1.2)\n",
            "Requirement already satisfied: setuptools>=44 in /usr/local/lib/python3.10/dist-packages (from outdated>=0.2.0->ogb>=1.3.3->dglgo) (67.7.2)\n",
            "Collecting littleutils (from outdated>=0.2.0->ogb>=1.3.3->dglgo)\n",
            "  Downloading littleutils-0.2.2.tar.gz (6.6 kB)\n",
            "  Preparing metadata (setup.py) ... \u001b[?25l\u001b[?25hdone\n",
            "Requirement already satisfied: requests in /usr/local/lib/python3.10/dist-packages (from outdated>=0.2.0->ogb>=1.3.3->dglgo) (2.27.1)\n",
            "Requirement already satisfied: python-dateutil>=2.8.1 in /usr/local/lib/python3.10/dist-packages (from pandas>=0.24.0->ogb>=1.3.3->dglgo) (2.8.2)\n",
            "Requirement already satisfied: pytz>=2020.1 in /usr/local/lib/python3.10/dist-packages (from pandas>=0.24.0->ogb>=1.3.3->dglgo) (2022.7.1)\n",
            "Requirement already satisfied: sphinxcontrib-applehelp in /usr/local/lib/python3.10/dist-packages (from sphinx>=4.2->numpydoc>=1.1.0->dglgo) (1.0.4)\n",
            "Requirement already satisfied: sphinxcontrib-devhelp in /usr/local/lib/python3.10/dist-packages (from sphinx>=4.2->numpydoc>=1.1.0->dglgo) (1.0.2)\n",
            "Requirement already satisfied: sphinxcontrib-jsmath in /usr/local/lib/python3.10/dist-packages (from sphinx>=4.2->numpydoc>=1.1.0->dglgo) (1.0.1)\n",
            "Requirement already satisfied: sphinxcontrib-htmlhelp>=2.0.0 in /usr/local/lib/python3.10/dist-packages (from sphinx>=4.2->numpydoc>=1.1.0->dglgo) (2.0.1)\n",
            "Requirement already satisfied: sphinxcontrib-serializinghtml>=1.1.5 in /usr/local/lib/python3.10/dist-packages (from sphinx>=4.2->numpydoc>=1.1.0->dglgo) (1.1.5)\n",
            "Requirement already satisfied: sphinxcontrib-qthelp in /usr/local/lib/python3.10/dist-packages (from sphinx>=4.2->numpydoc>=1.1.0->dglgo) (1.0.3)\n",
            "Requirement already satisfied: Pygments>=2.13 in /usr/local/lib/python3.10/dist-packages (from sphinx>=4.2->numpydoc>=1.1.0->dglgo) (2.14.0)\n",
            "Collecting docutils<0.21,>=0.18.1 (from sphinx>=4.2->numpydoc>=1.1.0->dglgo)\n",
            "  Downloading docutils-0.20.1-py3-none-any.whl (572 kB)\n",
            "\u001b[2K     \u001b[90m━━━━━━━━━━━━━━━━━━━━━━━━━━━━━━━━━━━━━━\u001b[0m \u001b[32m572.7/572.7 kB\u001b[0m \u001b[31m55.5 MB/s\u001b[0m eta \u001b[36m0:00:00\u001b[0m\n",
            "\u001b[?25hRequirement already satisfied: snowballstemmer>=2.0 in /usr/local/lib/python3.10/dist-packages (from sphinx>=4.2->numpydoc>=1.1.0->dglgo) (2.2.0)\n",
            "Requirement already satisfied: babel>=2.9 in /usr/local/lib/python3.10/dist-packages (from sphinx>=4.2->numpydoc>=1.1.0->dglgo) (2.12.1)\n",
            "Requirement already satisfied: alabaster<0.8,>=0.7 in /usr/local/lib/python3.10/dist-packages (from sphinx>=4.2->numpydoc>=1.1.0->dglgo) (0.7.13)\n",
            "Requirement already satisfied: imagesize>=1.3 in /usr/local/lib/python3.10/dist-packages (from sphinx>=4.2->numpydoc>=1.1.0->dglgo) (1.4.1)\n",
            "Requirement already satisfied: packaging>=21.0 in /usr/local/lib/python3.10/dist-packages (from sphinx>=4.2->numpydoc>=1.1.0->dglgo) (23.1)\n",
            "Requirement already satisfied: filelock in /usr/local/lib/python3.10/dist-packages (from torch>=1.6.0->ogb>=1.3.3->dglgo) (3.12.0)\n",
            "Requirement already satisfied: sympy in /usr/local/lib/python3.10/dist-packages (from torch>=1.6.0->ogb>=1.3.3->dglgo) (1.11.1)\n",
            "Requirement already satisfied: networkx in /usr/local/lib/python3.10/dist-packages (from torch>=1.6.0->ogb>=1.3.3->dglgo) (3.1)\n",
            "Requirement already satisfied: triton==2.0.0 in /usr/local/lib/python3.10/dist-packages (from torch>=1.6.0->ogb>=1.3.3->dglgo) (2.0.0)\n",
            "Requirement already satisfied: cmake in /usr/local/lib/python3.10/dist-packages (from triton==2.0.0->torch>=1.6.0->ogb>=1.3.3->dglgo) (3.25.2)\n",
            "Requirement already satisfied: lit in /usr/local/lib/python3.10/dist-packages (from triton==2.0.0->torch>=1.6.0->ogb>=1.3.3->dglgo) (16.0.5)\n",
            "Requirement already satisfied: certifi>=2017.4.17 in /usr/local/lib/python3.10/dist-packages (from requests->outdated>=0.2.0->ogb>=1.3.3->dglgo) (2022.12.7)\n",
            "Requirement already satisfied: charset-normalizer~=2.0.0 in /usr/local/lib/python3.10/dist-packages (from requests->outdated>=0.2.0->ogb>=1.3.3->dglgo) (2.0.12)\n",
            "Requirement already satisfied: idna<4,>=2.5 in /usr/local/lib/python3.10/dist-packages (from requests->outdated>=0.2.0->ogb>=1.3.3->dglgo) (3.4)\n",
            "Requirement already satisfied: mpmath>=0.19 in /usr/local/lib/python3.10/dist-packages (from sympy->torch>=1.6.0->ogb>=1.3.3->dglgo) (1.3.0)\n",
            "Building wheels for collected packages: littleutils\n",
            "  Building wheel for littleutils (setup.py) ... \u001b[?25l\u001b[?25hdone\n",
            "  Created wheel for littleutils: filename=littleutils-0.2.2-py3-none-any.whl size=7029 sha256=970b95379480c5720f6b6a859b487c6764e4d67e458069a4085b619e413b2b61\n",
            "  Stored in directory: /root/.cache/pip/wheels/3d/fe/b0/27a9892da57472e538c7452a721a9cf463cc03cf7379889266\n",
            "Successfully built littleutils\n",
            "Installing collected packages: littleutils, ruamel.yaml.clib, rdkit-pypi, pycodestyle, isort, docutils, sphinx, ruamel.yaml, outdated, autopep8, numpydoc, ogb, dglgo\n",
            "  Attempting uninstall: docutils\n",
            "    Found existing installation: docutils 0.16\n",
            "    Uninstalling docutils-0.16:\n",
            "      Successfully uninstalled docutils-0.16\n",
            "  Attempting uninstall: sphinx\n",
            "    Found existing installation: Sphinx 3.5.4\n",
            "    Uninstalling Sphinx-3.5.4:\n",
            "      Successfully uninstalled Sphinx-3.5.4\n",
            "Successfully installed autopep8-2.0.2 dglgo-0.0.2 docutils-0.20.1 isort-5.12.0 littleutils-0.2.2 numpydoc-1.5.0 ogb-1.3.6 outdated-0.2.2 pycodestyle-2.10.0 rdkit-pypi-2022.9.5 ruamel.yaml-0.17.26 ruamel.yaml.clib-0.2.7 sphinx-7.0.1\n"
          ]
        }
      ],
      "source": [
        "!pip install dgl -f https://data.dgl.ai/wheels/repo.html\n",
        "\n",
        "!pip install dglgo -f https://data.dgl.ai/wheels-test/repo.html"
      ]
    },
    {
      "cell_type": "code",
      "source": [
        "%matplotlib inline\n",
        "import os\n",
        "\n",
        "os.environ[\"DGLBACKEND\"] = \"pytorch\"\n",
        "import dgl\n",
        "import numpy as np\n",
        "import networkx as nx\n",
        "import torch\n",
        "import torch.nn as nn"
      ],
      "metadata": {
        "id": "kBZudIQlG8Q4"
      },
      "execution_count": null,
      "outputs": []
    },
    {
      "cell_type": "markdown",
      "source": [
        "Querying graph structure"
      ],
      "metadata": {
        "id": "Mt3npaJBPjst"
      }
    },
    {
      "cell_type": "code",
      "source": [
        "#create heterogeneous graph\n",
        "data_dict = {\n",
        "    ('user', 'follows', 'user'): (torch.tensor([0, 1]), torch.tensor([1, 2])),\n",
        "    ('user', 'follows', 'topic'): (torch.tensor([1, 1]), torch.tensor([1, 2])),\n",
        "    ('user', 'plays', 'game'): (torch.tensor([0, 3]), torch.tensor([3, 4]))\n",
        "}\n",
        "g = dgl.heterograph(data_dict)\n",
        "\n"
      ],
      "metadata": {
        "id": "JGa0b4BCHtDu"
      },
      "execution_count": null,
      "outputs": []
    },
    {
      "cell_type": "code",
      "source": [
        "# create homogeneous graph\n",
        "h = dgl.graph((torch.tensor([0, 0, 1, 1]), torch.tensor([1, 0, 2, 3])))\n"
      ],
      "metadata": {
        "id": "fwtXBDaKZpFe"
      },
      "execution_count": null,
      "outputs": []
    },
    {
      "cell_type": "markdown",
      "source": [
        "DGLGraph.num_node"
      ],
      "metadata": {
        "id": "M3pj1ziNPJpg"
      }
    },
    {
      "cell_type": "code",
      "source": [
        "# Return the number of nodes in the graph.\n",
        "# g.num_nodes = g.number_of_nodes\n",
        "\n",
        "print(g.num_nodes('game'))  \n",
        "print(g.num_nodes('user'))\n",
        "print(g.num_nodes('topic'))"
      ],
      "metadata": {
        "colab": {
          "base_uri": "https://localhost:8080/"
        },
        "id": "uclzRDzBSGUE",
        "outputId": "06830884-614e-4a96-bcaa-11912048c58c"
      },
      "execution_count": null,
      "outputs": [
        {
          "output_type": "stream",
          "name": "stdout",
          "text": [
            "5\n",
            "4\n",
            "3\n"
          ]
        }
      ]
    },
    {
      "cell_type": "markdown",
      "source": [
        "DGLGraph.num_edges"
      ],
      "metadata": {
        "id": "O5-PjWCVPofd"
      }
    },
    {
      "cell_type": "code",
      "source": [
        "# Return the number of edges in the graph.\n",
        "# g.num_edges = g.number_of_edges\n",
        "\n",
        "print(g.num_edges(('user','follows','user')))\n",
        "print(g.num_edges(('user', 'follows', 'topic')))\n",
        "print(g.num_edges(('user', 'plays', 'game')))"
      ],
      "metadata": {
        "colab": {
          "base_uri": "https://localhost:8080/"
        },
        "id": "vwcScpOBSMCF",
        "outputId": "3d1f0559-6168-48f4-d553-8aba341daa4e"
      },
      "execution_count": null,
      "outputs": [
        {
          "output_type": "stream",
          "name": "stdout",
          "text": [
            "2\n",
            "2\n",
            "2\n"
          ]
        }
      ]
    },
    {
      "cell_type": "markdown",
      "source": [
        "DGLGraph.num_src_nodes"
      ],
      "metadata": {
        "id": "L6RkIKZtPyfo"
      }
    },
    {
      "cell_type": "code",
      "source": [
        "# Return the number of source nodes in the graph.\n",
        "# g.num_src_nodes = g.number_of_src_nodes\n",
        "\n",
        "print(g.num_src_nodes('game'))\n",
        "print(g.num_src_nodes('user'))\n",
        "print(g.num_src_nodes('topic'))"
      ],
      "metadata": {
        "colab": {
          "base_uri": "https://localhost:8080/"
        },
        "id": "f9sT4xZzV0Uo",
        "outputId": "b0053fc9-0e25-40e4-ca37-61d8d40bbcf2"
      },
      "execution_count": null,
      "outputs": [
        {
          "output_type": "stream",
          "name": "stdout",
          "text": [
            "5\n",
            "4\n",
            "3\n"
          ]
        }
      ]
    },
    {
      "cell_type": "markdown",
      "source": [
        "DGLGraph.num_dst_nodes"
      ],
      "metadata": {
        "id": "LaTMXIHKP2_d"
      }
    },
    {
      "cell_type": "code",
      "source": [
        "# Return the number of destination nodes in the graph.\n",
        "# g.num_dst_nodes = g.number_of_dst_nodes\n",
        "\n",
        "print(g.num_dst_nodes('game'))\n",
        "print(g.num_dst_nodes('user'))\n",
        "print(g.num_dst_nodes('topic'))"
      ],
      "metadata": {
        "colab": {
          "base_uri": "https://localhost:8080/"
        },
        "id": "QOjz4oPLXAvZ",
        "outputId": "6edf670b-0318-4ce0-cf3d-a2d97faac615"
      },
      "execution_count": null,
      "outputs": [
        {
          "output_type": "stream",
          "name": "stdout",
          "text": [
            "5\n",
            "4\n",
            "3\n"
          ]
        }
      ]
    },
    {
      "cell_type": "markdown",
      "source": [
        "DGLGraph.is_unibipartite"
      ],
      "metadata": {
        "id": "V2HJqjQXQGlI"
      }
    },
    {
      "cell_type": "code",
      "source": [
        "# Return whether the graph is a uni-bipartite graph.\n",
        "\n",
        "print(g.is_unibipartite)"
      ],
      "metadata": {
        "colab": {
          "base_uri": "https://localhost:8080/"
        },
        "id": "MYx6s_NxYtbd",
        "outputId": "8f5c6eb5-87fb-43e3-eef9-be9963df81c6"
      },
      "execution_count": null,
      "outputs": [
        {
          "output_type": "stream",
          "name": "stdout",
          "text": [
            "False\n"
          ]
        }
      ]
    },
    {
      "cell_type": "markdown",
      "source": [
        "DGLGraph.is_multigraph"
      ],
      "metadata": {
        "id": "IvCJ1DsxQKsr"
      }
    },
    {
      "cell_type": "code",
      "source": [
        "# Return whether the graph is a multigraph with parallel edges.\n",
        "print(g.is_multigraph)"
      ],
      "metadata": {
        "colab": {
          "base_uri": "https://localhost:8080/"
        },
        "id": "hQsz3dFGY-2r",
        "outputId": "7083b844-edb1-44a7-a0ed-901f77f86d3c"
      },
      "execution_count": null,
      "outputs": [
        {
          "output_type": "stream",
          "name": "stdout",
          "text": [
            "False\n"
          ]
        }
      ]
    },
    {
      "cell_type": "markdown",
      "source": [
        "DGLGraph.is_homogeneous"
      ],
      "metadata": {
        "id": "1XveDiiKQMTC"
      }
    },
    {
      "cell_type": "code",
      "source": [
        "# Return whether the graph is a homogeneous graph.\n",
        "print(g.is_homogeneous)\n",
        "print(h.is_homogeneous)"
      ],
      "metadata": {
        "colab": {
          "base_uri": "https://localhost:8080/"
        },
        "id": "Tyqp4cpZZZTI",
        "outputId": "aec280a3-cdd4-43bc-cefc-98e77573633b"
      },
      "execution_count": null,
      "outputs": [
        {
          "output_type": "stream",
          "name": "stdout",
          "text": [
            "False\n",
            "True\n"
          ]
        }
      ]
    },
    {
      "cell_type": "markdown",
      "source": [
        "DGLGraph.has_nodes  ##???"
      ],
      "metadata": {
        "id": "9poaU478QTyX"
      }
    },
    {
      "cell_type": "code",
      "source": [
        "# Return whether the graph contains the given nodes.\n",
        "print(g.has_nodes(0, 'user'))\n",
        "print(g.has_nodes(2, 'game')) ##?"
      ],
      "metadata": {
        "colab": {
          "base_uri": "https://localhost:8080/"
        },
        "id": "yRYlFFKBZh3E",
        "outputId": "e20a7708-4d4b-4ca2-b2d2-ed709f541fe3"
      },
      "execution_count": null,
      "outputs": [
        {
          "output_type": "stream",
          "name": "stdout",
          "text": [
            "True\n",
            "True\n"
          ]
        }
      ]
    },
    {
      "cell_type": "markdown",
      "source": [
        "DGLGraph.has_edges_between"
      ],
      "metadata": {
        "id": "xm3hPiOQQ2mn"
      }
    },
    {
      "cell_type": "code",
      "source": [
        "# Return whether the graph contains the given edges.\n",
        "print(g.has_edges_between(torch.tensor([0]), torch.tensor([1]), 'plays'))\n",
        "print(g.has_edges_between(torch.tensor([0]), torch.tensor([1]), ('user','follows', 'user')))\n",
        "\n",
        "print(h.has_edges_between(torch.tensor([0, 0]), torch.tensor([0, 2])))"
      ],
      "metadata": {
        "colab": {
          "base_uri": "https://localhost:8080/"
        },
        "id": "X3fcsrKZbLJe",
        "outputId": "90f9ef02-331f-4639-90a1-cdf25f837942"
      },
      "execution_count": null,
      "outputs": [
        {
          "output_type": "stream",
          "name": "stdout",
          "text": [
            "tensor([False])\n",
            "tensor([True])\n",
            "tensor([ True, False])\n"
          ]
        }
      ]
    },
    {
      "cell_type": "markdown",
      "source": [
        "DGLGraph.successors"
      ],
      "metadata": {
        "id": "ZQHRsgkrQ8i2"
      }
    },
    {
      "cell_type": "code",
      "source": [
        "# Return the successor(s) of a particular node with the specified edge type\n",
        "\n",
        "print(g.successors(0, 'plays'))\n",
        "print(g.successors(0, ('user', 'follows', 'user')))\n",
        "print(g.successors(3, 'plays'))\n",
        "\n",
        "print(h.successors(0))"
      ],
      "metadata": {
        "colab": {
          "base_uri": "https://localhost:8080/"
        },
        "id": "CAfsolKocWDq",
        "outputId": "38d545f1-0a16-4f87-ef83-70cdd2ecebcf"
      },
      "execution_count": null,
      "outputs": [
        {
          "output_type": "stream",
          "name": "stdout",
          "text": [
            "tensor([3])\n",
            "tensor([1])\n",
            "tensor([4])\n",
            "tensor([1, 0])\n"
          ]
        }
      ]
    },
    {
      "cell_type": "markdown",
      "source": [
        "DGLGraph.predecessors"
      ],
      "metadata": {
        "id": "L4fluiADQ_oh"
      }
    },
    {
      "cell_type": "code",
      "source": [
        "# Return the predecessor(s) of a particular node with the specified edge type.\n",
        "\n",
        "print(g.predecessors(4, 'plays'))\n",
        "print(g.predecessors(2, ('user','follows', 'user')))\n",
        "print(g.predecessors(2, ('user','follows', 'topic')))\n",
        "\n",
        "print(h.predecessors(1))"
      ],
      "metadata": {
        "colab": {
          "base_uri": "https://localhost:8080/"
        },
        "id": "v8XXbQ0KhpiY",
        "outputId": "ae86824a-d127-4cb2-87b2-63c80ab3d75b"
      },
      "execution_count": null,
      "outputs": [
        {
          "output_type": "stream",
          "name": "stdout",
          "text": [
            "tensor([3])\n",
            "tensor([1])\n",
            "tensor([1])\n",
            "tensor([0])\n"
          ]
        }
      ]
    },
    {
      "cell_type": "markdown",
      "source": [
        "DGLGraph.edge_ids"
      ],
      "metadata": {
        "id": "QSwHqwdmSDxg"
      }
    },
    {
      "cell_type": "code",
      "source": [
        "# Return the edge ID(s) given the two endpoints of the edge(s).\n",
        "\n",
        "print(g.edge_ids([0], [3], etype = 'plays'))\n",
        "print(g.edge_ids([0], [1],etype = ('user','follows', 'user')))\n",
        "print(g.edge_ids([1], [2],etype = ('user','follows', 'topic')))\n",
        "\n",
        "print(h.edge_ids([1],[3]))\n",
        "print(h.edge_ids([0, 0], [1, 0]))"
      ],
      "metadata": {
        "colab": {
          "base_uri": "https://localhost:8080/"
        },
        "id": "P1pbEl3KkEvI",
        "outputId": "e2a116f4-4ab6-4ba2-b47e-3ed27ff24d5a"
      },
      "execution_count": null,
      "outputs": [
        {
          "output_type": "stream",
          "name": "stdout",
          "text": [
            "tensor([0])\n",
            "tensor([0])\n",
            "tensor([1])\n",
            "tensor([3])\n",
            "tensor([0, 1])\n"
          ]
        }
      ]
    },
    {
      "cell_type": "markdown",
      "source": [
        "DGLGraph.find_edges"
      ],
      "metadata": {
        "id": "HI1cevMhSad7"
      }
    },
    {
      "cell_type": "code",
      "source": [
        "# Return the source and destination node ID(s) given the edge ID(s).\n",
        "print(g.find_edges([1, 0], 'plays'))\n",
        "print(g.find_edges([1, 0], ('user', 'follows', 'user')))\n",
        "\n",
        "print(h.find_edges([1, 0]))"
      ],
      "metadata": {
        "colab": {
          "base_uri": "https://localhost:8080/"
        },
        "id": "su0NdyQ4lzUh",
        "outputId": "f5bf5693-8d98-4174-8917-81d3f3e7ae64"
      },
      "execution_count": null,
      "outputs": [
        {
          "output_type": "stream",
          "name": "stdout",
          "text": [
            "(tensor([3, 0]), tensor([4, 3]))\n",
            "(tensor([1, 0]), tensor([2, 1]))\n",
            "(tensor([0, 0]), tensor([0, 1]))\n"
          ]
        }
      ]
    },
    {
      "cell_type": "markdown",
      "source": [
        "DGLGraph.in_edges"
      ],
      "metadata": {
        "id": "rG9YXX5nSmeM"
      }
    },
    {
      "cell_type": "code",
      "source": [
        "# Return the incoming edges of the given nodes.\n",
        "\n",
        "print(g.in_edges([3], etype = 'plays')) \n",
        "print(g.in_edges([2], etype = ('user','follows','user'))) \n",
        "print(g.in_edges([2,1], etype = ('user','follows','user')))\n",
        "\n",
        "print(h.in_edges([1]))"
      ],
      "metadata": {
        "colab": {
          "base_uri": "https://localhost:8080/"
        },
        "id": "GovRnQwplmVD",
        "outputId": "322d8906-6dd3-42d9-98b8-783bc01ca200"
      },
      "execution_count": null,
      "outputs": [
        {
          "output_type": "stream",
          "name": "stdout",
          "text": [
            "(tensor([0]), tensor([3]))\n",
            "(tensor([1]), tensor([2]))\n",
            "(tensor([1, 0]), tensor([2, 1]))\n",
            "(tensor([0]), tensor([1]))\n"
          ]
        }
      ]
    },
    {
      "cell_type": "markdown",
      "source": [
        "DGLGraph.out_edges"
      ],
      "metadata": {
        "id": "7671UcKzSrSl"
      }
    },
    {
      "cell_type": "code",
      "source": [
        "# Return the outgoing edges of the given nodes.\n",
        "\n",
        "print(g.out_edges([3], etype = 'plays'))\n",
        "\n",
        "print(h.out_edges([0]))"
      ],
      "metadata": {
        "colab": {
          "base_uri": "https://localhost:8080/"
        },
        "id": "wjeKgfbqq_xd",
        "outputId": "973cf5c4-b2f6-48d7-cfb2-462afd075863"
      },
      "execution_count": null,
      "outputs": [
        {
          "output_type": "stream",
          "name": "stdout",
          "text": [
            "(tensor([3]), tensor([4]))\n",
            "(tensor([0, 0]), tensor([1, 0]))\n"
          ]
        }
      ]
    },
    {
      "cell_type": "markdown",
      "source": [
        "DGLGraph.in_degrees"
      ],
      "metadata": {
        "id": "0lMNpaVKSzUH"
      }
    },
    {
      "cell_type": "code",
      "source": [
        "# Return the in-degree(s) of the given nodes.\n",
        "print(g.in_degrees([3,4], 'plays'))\n",
        "print(g.in_degrees([2] ,('user', 'follows', 'topic')))\n",
        "\n",
        "print(h.in_degrees([0, 3]))"
      ],
      "metadata": {
        "colab": {
          "base_uri": "https://localhost:8080/"
        },
        "id": "gNx39mknv_d_",
        "outputId": "fb40cf9f-e914-4e49-8fef-a53b4688c278"
      },
      "execution_count": null,
      "outputs": [
        {
          "output_type": "stream",
          "name": "stdout",
          "text": [
            "tensor([1, 1])\n",
            "tensor([1])\n",
            "tensor([1, 1])\n"
          ]
        }
      ]
    },
    {
      "cell_type": "markdown",
      "source": [
        "DGLGraph.out_degrees"
      ],
      "metadata": {
        "id": "AY4E48lNS2OT"
      }
    },
    {
      "cell_type": "code",
      "source": [
        "# Return the out-degree(s) of the given nodes.\n",
        "print(g.out_degrees([3], 'plays'))\n",
        "print(g.out_degrees([2] ,('user', 'follows', 'topic')))\n",
        "\n",
        "print(h.out_degrees([0, 3]))"
      ],
      "metadata": {
        "colab": {
          "base_uri": "https://localhost:8080/"
        },
        "id": "2B9MQ25nwrva",
        "outputId": "675503bc-1161-4fda-bb74-363244c01edc"
      },
      "execution_count": null,
      "outputs": [
        {
          "output_type": "stream",
          "name": "stdout",
          "text": [
            "tensor([1])\n",
            "tensor([0])\n",
            "tensor([2, 0])\n"
          ]
        }
      ]
    },
    {
      "cell_type": "markdown",
      "source": [
        "Querying and manipulating node/edge ID type"
      ],
      "metadata": {
        "id": "onlg__xd-RyJ"
      }
    },
    {
      "cell_type": "markdown",
      "source": [
        "DGLGraph.idtype"
      ],
      "metadata": {
        "id": "iXdEyuaDTY06"
      }
    },
    {
      "cell_type": "code",
      "source": [
        "# The data type for storing the structure-related graph information such as node and edge IDs.\n",
        "g.idtype"
      ],
      "metadata": {
        "colab": {
          "base_uri": "https://localhost:8080/"
        },
        "id": "nQru3656-PDn",
        "outputId": "f29e4644-ffbb-4ccf-af1c-cd0792d0f0e2"
      },
      "execution_count": null,
      "outputs": [
        {
          "output_type": "execute_result",
          "data": {
            "text/plain": [
              "torch.int64"
            ]
          },
          "metadata": {},
          "execution_count": 127
        }
      ]
    },
    {
      "cell_type": "code",
      "source": [
        "g = dgl.heterograph(data_dict, idtype = torch.int32)\n",
        "g.idtype"
      ],
      "metadata": {
        "colab": {
          "base_uri": "https://localhost:8080/"
        },
        "id": "rKQNB_EI-vZ3",
        "outputId": "d9e06c82-2536-47cd-94cf-02f9818bcbcd"
      },
      "execution_count": null,
      "outputs": [
        {
          "output_type": "execute_result",
          "data": {
            "text/plain": [
              "torch.int32"
            ]
          },
          "metadata": {},
          "execution_count": 129
        }
      ]
    },
    {
      "cell_type": "code",
      "source": [
        "g = dgl.graph((torch.tensor([0, 0, 1]).int(), torch.tensor([1, 2, 2]).int())) ##??\n",
        "nx.draw_networkx(g.to_networkx(), with_labels = 1)"
      ],
      "metadata": {
        "colab": {
          "base_uri": "https://localhost:8080/",
          "height": 406
        },
        "id": "Ic4GHjNb_Cfp",
        "outputId": "3a2f22fc-4359-45a3-8842-6e9578bcb495"
      },
      "execution_count": null,
      "outputs": [
        {
          "output_type": "display_data",
          "data": {
            "text/plain": [
              "<Figure size 640x480 with 1 Axes>"
            ],
            "image/png": "[encoded data removed]"
          },
          "metadata": {}
        }
      ]
    },
    {
      "cell_type": "code",
      "source": [
        "g.ndata['feature'] = torch.randn(3, 1)\n",
        "g.ndata"
      ],
      "metadata": {
        "colab": {
          "base_uri": "https://localhost:8080/"
        },
        "id": "9tBdJzIcA829",
        "outputId": "88685bad-818b-4e58-e612-f7dc01bf4c45"
      },
      "execution_count": null,
      "outputs": [
        {
          "output_type": "execute_result",
          "data": {
            "text/plain": [
              "{'feature': tensor([[-1.0897],\n",
              "        [ 0.4795],\n",
              "        [-0.4997]])}"
            ]
          },
          "metadata": {},
          "execution_count": 132
        }
      ]
    },
    {
      "cell_type": "markdown",
      "source": [
        "DGLGraph.long & DGLGraph.int  ##???"
      ],
      "metadata": {
        "id": "ZBN2l8ulTlrI"
      }
    },
    {
      "cell_type": "code",
      "source": [
        "#???\n",
        "g_long = g.long()\n",
        "g_int = g.int()\n",
        "print(g_long.idtype)\n",
        "print(g.idtype)\n",
        "print(g_int.idtype)"
      ],
      "metadata": {
        "colab": {
          "base_uri": "https://localhost:8080/"
        },
        "id": "w3iYvM8eBdtK",
        "outputId": "75d4a83e-1bb7-48bf-eb9b-e80ac2284c6b"
      },
      "execution_count": null,
      "outputs": [
        {
          "output_type": "stream",
          "name": "stdout",
          "text": [
            "torch.int64\n",
            "torch.int32\n",
            "torch.int32\n"
          ]
        }
      ]
    },
    {
      "cell_type": "markdown",
      "source": [
        "Using Node/edge features"
      ],
      "metadata": {
        "id": "p_8utXu4Dei0"
      }
    },
    {
      "cell_type": "code",
      "source": [
        "data_dict = {\n",
        "    ('user', 'follows', 'user'): (torch.tensor([0, 1]), torch.tensor([1, 2])),\n",
        "    ('user', 'follows', 'topic'): (torch.tensor([1, 1]), torch.tensor([1, 2])),\n",
        "    ('user', 'plays', 'game'): (torch.tensor([0, 3]), torch.tensor([3, 4]))\n",
        "}\n",
        "g = dgl.heterograph(data_dict)\n",
        "\n",
        "h = dgl.graph((torch.tensor([0, 0, 1, 1]), torch.tensor([1, 0, 2, 3])))"
      ],
      "metadata": {
        "id": "xPCFSlk3EoZu"
      },
      "execution_count": null,
      "outputs": []
    },
    {
      "cell_type": "markdown",
      "source": [
        "DGLGraph.nodes  ##???"
      ],
      "metadata": {
        "id": "Y9jC4j_HY1rK"
      }
    },
    {
      "cell_type": "code",
      "source": [
        "# Return a node view\n",
        "\n",
        "#Get the node ID\n",
        "print(h.nodes())\n",
        "print(g.nodes('user'))\n",
        "print(g.nodes('topic'))\n",
        "print(g.nodes('game'))\n",
        "\n",
        "#Set and get a feature for all nodes of  single type\n",
        "g.nodes('game').data['feature'] = torch.ones(5, 1)  ##???\n"
      ],
      "metadata": {
        "colab": {
          "base_uri": "https://localhost:8080/",
          "height": 269
        },
        "id": "5be3NjYVDfKk",
        "outputId": "07f635b1-b778-431b-e710-92eafafc726c"
      },
      "execution_count": null,
      "outputs": [
        {
          "output_type": "stream",
          "name": "stdout",
          "text": [
            "tensor([0, 1, 2, 3])\n",
            "tensor([0, 1, 2, 3])\n",
            "tensor([0, 1, 2])\n",
            "tensor([0, 1, 2, 3, 4])\n"
          ]
        },
        {
          "output_type": "error",
          "ename": "IndexError",
          "evalue": "ignored",
          "traceback": [
            "\u001b[0;31m---------------------------------------------------------------------------\u001b[0m",
            "\u001b[0;31mIndexError\u001b[0m                                Traceback (most recent call last)",
            "\u001b[0;32m<ipython-input-152-956a792dbc07>\u001b[0m in \u001b[0;36m<cell line: 10>\u001b[0;34m()\u001b[0m\n\u001b[1;32m      8\u001b[0m \u001b[0;34m\u001b[0m\u001b[0m\n\u001b[1;32m      9\u001b[0m \u001b[0;31m#Set and get a feature for all nodes of  single type\u001b[0m\u001b[0;34m\u001b[0m\u001b[0;34m\u001b[0m\u001b[0m\n\u001b[0;32m---> 10\u001b[0;31m \u001b[0mg\u001b[0m\u001b[0;34m.\u001b[0m\u001b[0mnodes\u001b[0m\u001b[0;34m(\u001b[0m\u001b[0;34m'game'\u001b[0m\u001b[0;34m)\u001b[0m\u001b[0;34m.\u001b[0m\u001b[0mdata\u001b[0m\u001b[0;34m[\u001b[0m\u001b[0;34m'feature'\u001b[0m\u001b[0;34m]\u001b[0m \u001b[0;34m=\u001b[0m \u001b[0mtorch\u001b[0m\u001b[0;34m.\u001b[0m\u001b[0mones\u001b[0m\u001b[0;34m(\u001b[0m\u001b[0;36m5\u001b[0m\u001b[0;34m,\u001b[0m \u001b[0;36m1\u001b[0m\u001b[0;34m)\u001b[0m\u001b[0;34m\u001b[0m\u001b[0;34m\u001b[0m\u001b[0m\n\u001b[0m",
            "\u001b[0;31mIndexError\u001b[0m: too many indices for tensor of dimension 1"
          ]
        }
      ]
    },
    {
      "cell_type": "markdown",
      "source": [
        "DGLGraph.ndata"
      ],
      "metadata": {
        "id": "N4qGvPb5ZQ2Z"
      }
    },
    {
      "cell_type": "code",
      "source": [
        "#Return a node data view for setting/getting node features\n",
        "h.ndata['feature 1'] = torch.ones(4, 1)\n",
        "print(h.ndata['feature 1'])\n",
        "\n",
        "h.ndata['feature 2'] = torch.zeros(4, 2)\n",
        "print(h.ndata['feature 2'])\n",
        "\n",
        "g.ndata['feature'] = {'game': torch.zeros(5, 1), 'user':torch.ones(4,1)}\n",
        "g.ndata['feature']"
      ],
      "metadata": {
        "colab": {
          "base_uri": "https://localhost:8080/"
        },
        "id": "FwwMm7SAMdsf",
        "outputId": "9438a044-e844-45a0-b906-25e39867dd36"
      },
      "execution_count": null,
      "outputs": [
        {
          "output_type": "stream",
          "name": "stdout",
          "text": [
            "tensor([[1.],\n",
            "        [1.],\n",
            "        [1.],\n",
            "        [1.]])\n",
            "tensor([[0., 0.],\n",
            "        [0., 0.],\n",
            "        [0., 0.],\n",
            "        [0., 0.]])\n"
          ]
        },
        {
          "output_type": "execute_result",
          "data": {
            "text/plain": [
              "{'game': tensor([[0.],\n",
              "         [0.],\n",
              "         [0.],\n",
              "         [0.],\n",
              "         [0.]]),\n",
              " 'user': tensor([[1.],\n",
              "         [1.],\n",
              "         [1.],\n",
              "         [1.]])}"
            ]
          },
          "metadata": {},
          "execution_count": 155
        }
      ]
    },
    {
      "cell_type": "markdown",
      "source": [
        "DGLGraph.edges"
      ],
      "metadata": {
        "id": "N8ccHzDrZd3W"
      }
    },
    {
      "cell_type": "code",
      "source": [
        "#Return an edge view\n",
        "print(g.edges(etype = 'plays'))\n",
        "print(g.edges(etype = ('user','follows', 'user')))\n",
        "print(g.edges(etype = ('user', 'follows', 'topic')))\n",
        "\n",
        "print(h.edges())\n",
        "\n",
        "\n",
        "#Set and get a feature for all nodes of  single type\n",
        "g.edges['plays'].data['feature'] = torch.ones(2,1)\n",
        "print(g.edges['plays'].data['feature'] )"
      ],
      "metadata": {
        "colab": {
          "base_uri": "https://localhost:8080/"
        },
        "id": "xUNX7pfmODmm",
        "outputId": "7c457b18-054c-4bcb-d56b-9370242e6fa4"
      },
      "execution_count": null,
      "outputs": [
        {
          "output_type": "stream",
          "name": "stdout",
          "text": [
            "(tensor([0, 3]), tensor([3, 4]))\n",
            "(tensor([0, 1]), tensor([1, 2]))\n",
            "(tensor([1, 1]), tensor([1, 2]))\n",
            "\n",
            "\n",
            "(tensor([0, 0, 1, 1]), tensor([1, 0, 2, 3]))\n",
            "\n",
            "\n",
            "tensor([[1.],\n",
            "        [1.]])\n"
          ]
        }
      ]
    },
    {
      "cell_type": "markdown",
      "source": [
        "DGLGraph.edata"
      ],
      "metadata": {
        "id": "QE_jBqzaZj1s"
      }
    },
    {
      "cell_type": "code",
      "source": [
        "# Return an edge data view for setting/getting edge features.\n",
        "\n",
        "g.edata['feature 1'] = {('user', 'follows', 'user') :torch.zeros(2,1),\n",
        "                              ('user', 'follows', 'topic'): torch.ones(2, 2),\n",
        "                              ('user', 'plays', 'game'):torch.randn(2, 1)}\n",
        "print(g.edata['feature 1'])\n",
        "\n",
        "h.edata['feature'] = torch.randn(4, 2)\n",
        "print(h.edata['feature'])"
      ],
      "metadata": {
        "colab": {
          "base_uri": "https://localhost:8080/"
        },
        "id": "dB5I9cSERqEi",
        "outputId": "47896058-3296-4186-c1ab-ac66fc2295cd"
      },
      "execution_count": null,
      "outputs": [
        {
          "output_type": "stream",
          "name": "stdout",
          "text": [
            "{('user', 'follows', 'topic'): tensor([[1., 1.],\n",
            "        [1., 1.]]), ('user', 'follows', 'user'): tensor([[0.],\n",
            "        [0.]]), ('user', 'plays', 'game'): tensor([[ 1.5927],\n",
            "        [-1.6394]])}\n",
            "tensor([[-0.0196, -0.9095],\n",
            "        [-1.6711,  0.9188],\n",
            "        [-0.2426, -1.8675],\n",
            "        [-0.1991,  0.4421]])\n"
          ]
        }
      ]
    },
    {
      "cell_type": "code",
      "source": [
        "h.num_edges()\n"
      ],
      "metadata": {
        "colab": {
          "base_uri": "https://localhost:8080/"
        },
        "id": "YwuGEzeJUR6c",
        "outputId": "58ebcfc1-2ed0-4daf-eaa0-f54d75b17138"
      },
      "execution_count": null,
      "outputs": [
        {
          "output_type": "execute_result",
          "data": {
            "text/plain": [
              "4"
            ]
          },
          "metadata": {},
          "execution_count": 173
        }
      ]
    },
    {
      "cell_type": "markdown",
      "source": [
        "DGLGraph.node_attr_schemes"
      ],
      "metadata": {
        "id": "3M9l9xO9ZvY_"
      }
    },
    {
      "cell_type": "code",
      "source": [
        "#Return the node feature schemes for the specified type.\n",
        "print(g.node_attr_schemes('topic'))\n",
        "print(g.node_attr_schemes('user'))\n",
        "print(g.node_attr_schemes('game'))\n",
        "print(h.node_attr_schemes())"
      ],
      "metadata": {
        "colab": {
          "base_uri": "https://localhost:8080/"
        },
        "id": "xu9ydHLoUwnn",
        "outputId": "bccecf07-8152-49f8-9a18-d14f2de47cef"
      },
      "execution_count": null,
      "outputs": [
        {
          "output_type": "stream",
          "name": "stdout",
          "text": [
            "{}\n",
            "{'feature': Scheme(shape=(1,), dtype=torch.float32)}\n",
            "{'feature': Scheme(shape=(1,), dtype=torch.float32)}\n",
            "{'feature': Scheme(shape=(1,), dtype=torch.float32), 'feature 1': Scheme(shape=(1,), dtype=torch.float32), 'feature 2': Scheme(shape=(2,), dtype=torch.float32)}\n"
          ]
        }
      ]
    },
    {
      "cell_type": "markdown",
      "source": [
        "DGLGraph.edge_attr_schemes"
      ],
      "metadata": {
        "id": "CG9AX51ZZ-8c"
      }
    },
    {
      "cell_type": "code",
      "source": [
        "#Return the edge feature schemes for the specified type.\n",
        "print(g.edge_attr_schemes('plays'))\n",
        "print(g.edge_attr_schemes(('user', 'follows', 'user')))\n",
        "print(g.edge_attr_schemes(('user', 'follows', 'topic')))\n",
        "\n",
        "print(h.edge_attr_schemes())"
      ],
      "metadata": {
        "colab": {
          "base_uri": "https://localhost:8080/"
        },
        "id": "o-cw3BUufLmd",
        "outputId": "7fb6cc50-a829-4388-8465-b6d9453c1f61"
      },
      "execution_count": null,
      "outputs": [
        {
          "output_type": "stream",
          "name": "stdout",
          "text": [
            "{'feature': Scheme(shape=(1,), dtype=torch.float32), 'feature 1': Scheme(shape=(1,), dtype=torch.float32)}\n",
            "{'feature 1': Scheme(shape=(1,), dtype=torch.float32)}\n",
            "{'feature 1': Scheme(shape=(2,), dtype=torch.float32)}\n",
            "{'feature': Scheme(shape=(2,), dtype=torch.float32)}\n"
          ]
        }
      ]
    },
    {
      "cell_type": "markdown",
      "source": [
        "DGLGraph.srcnodes  & DGLGraph.srcnodes ##???"
      ],
      "metadata": {
        "id": "_1xrG7dYaF4J"
      }
    },
    {
      "cell_type": "code",
      "source": [
        "#Return a node view for source nodes\n",
        "#Return a node view for destination nodes\n",
        "\n",
        "print(g.srcnodes('user')) ##??"
      ],
      "metadata": {
        "colab": {
          "base_uri": "https://localhost:8080/"
        },
        "id": "ldqJtVragWKC",
        "outputId": "dc2d9511-4bbb-4d65-b36b-c7c4b0f0f2ac"
      },
      "execution_count": null,
      "outputs": [
        {
          "output_type": "stream",
          "name": "stdout",
          "text": [
            "tensor([0, 1, 2, 3])\n"
          ]
        }
      ]
    },
    {
      "cell_type": "markdown",
      "source": [
        "DGLGraph.srcdata & DGLGraph.dstdata"
      ],
      "metadata": {
        "id": "dlDTYChrbCRe"
      }
    },
    {
      "cell_type": "code",
      "source": [
        "#Return a node data view for setting/getting source node features.\n",
        "#Return a node data view for setting/getting source node features.\n",
        "\n",
        "g.srcdata['h'] = {'user':torch.zeros(4,1)}\n",
        "print(g.srcdata['h'])\n",
        "\n",
        "g.dstdata['h'] = {'user':torch.ones(4, 1),\n",
        "                  'topic':torch.zeros(3, 1),\n",
        "                  'game':torch.zeros(5, 1)}\n",
        "print(g.dstdata['h']) "
      ],
      "metadata": {
        "colab": {
          "base_uri": "https://localhost:8080/"
        },
        "id": "kwAtDWyDlfHa",
        "outputId": "e95324a9-b682-4c9f-8981-7f03dd86726e"
      },
      "execution_count": null,
      "outputs": [
        {
          "output_type": "stream",
          "name": "stdout",
          "text": [
            "{'user': tensor([[0.],\n",
            "        [0.],\n",
            "        [0.],\n",
            "        [0.]])}\n",
            "{'game': tensor([[0.],\n",
            "        [0.],\n",
            "        [0.],\n",
            "        [0.],\n",
            "        [0.]]), 'topic': tensor([[0.],\n",
            "        [0.],\n",
            "        [0.]]), 'user': tensor([[1.],\n",
            "        [1.],\n",
            "        [1.],\n",
            "        [1.]])}\n"
          ]
        }
      ]
    },
    {
      "cell_type": "markdown",
      "source": [
        "Transforming graph"
      ],
      "metadata": {
        "id": "cuiJBRp3oj7Y"
      }
    },
    {
      "cell_type": "code",
      "source": [
        "data_dict = {\n",
        "    ('user', 'follows', 'user'): (torch.tensor([0, 1]), torch.tensor([1, 2])),\n",
        "    ('user', 'follows', 'topic'): (torch.tensor([1, 1]), torch.tensor([1, 2])),\n",
        "    ('user', 'plays', 'game'): (torch.tensor([0, 3]), torch.tensor([3, 4]))\n",
        "}\n",
        "g = dgl.heterograph(data_dict)\n",
        "\n",
        "h = dgl.graph((torch.tensor([0, 0, 1, 1]), torch.tensor([1, 0, 2, 3])))"
      ],
      "metadata": {
        "id": "SIMB3nmJqM6x"
      },
      "execution_count": null,
      "outputs": []
    },
    {
      "cell_type": "code",
      "source": [
        "nx.draw_networkx(h.to_networkx(), with_labels = 1)"
      ],
      "metadata": {
        "colab": {
          "base_uri": "https://localhost:8080/",
          "height": 406
        },
        "id": "i_z0H-FrojgQ",
        "outputId": "020f17a9-c73a-4b48-9175-99ffa47ff5c0"
      },
      "execution_count": null,
      "outputs": [
        {
          "output_type": "display_data",
          "data": {
            "text/plain": [
              "<Figure size 640x480 with 1 Axes>"
            ],
            "image/png": "[encoded data removed]"
          },
          "metadata": {}
        }
      ]
    },
    {
      "cell_type": "markdown",
      "source": [
        "DGLGraph.subgraph  &  DGLGraph.edge_subgraph  ##??"
      ],
      "metadata": {
        "id": "0nHS_hJxgexu"
      }
    },
    {
      "cell_type": "code",
      "source": [
        "sub_h = h.subgraph([0, 1]) ##??"
      ],
      "metadata": {
        "id": "onwPiWkUnI33"
      },
      "execution_count": null,
      "outputs": []
    },
    {
      "cell_type": "code",
      "source": [
        "nx.draw_networkx(sub_h.to_networkx(), with_labels = 1)"
      ],
      "metadata": {
        "colab": {
          "base_uri": "https://localhost:8080/",
          "height": 406
        },
        "id": "PeWUWoenrBb1",
        "outputId": "1b5ae4f0-8786-4dc7-d571-85219d387626"
      },
      "execution_count": null,
      "outputs": [
        {
          "output_type": "display_data",
          "data": {
            "text/plain": [
              "<Figure size 640x480 with 1 Axes>"
            ],
            "image/png": "[encoded data removed]"
          },
          "metadata": {}
        }
      ]
    },
    {
      "cell_type": "code",
      "source": [
        "g = dgl.graph(([0, 1, 2, 3, 4], [1, 2, 3, 4, 0]))  \n",
        "sg = g.subgraph([0, 1, 3])"
      ],
      "metadata": {
        "id": "R6T900vH4LVZ"
      },
      "execution_count": null,
      "outputs": []
    },
    {
      "cell_type": "code",
      "source": [
        "nx.draw_networkx(g.to_networkx(), with_labels = 1)"
      ],
      "metadata": {
        "colab": {
          "base_uri": "https://localhost:8080/",
          "height": 406
        },
        "id": "O88ySmJZ4bVr",
        "outputId": "acb8fd60-f5be-4416-868f-0559b2e525ed"
      },
      "execution_count": null,
      "outputs": [
        {
          "output_type": "display_data",
          "data": {
            "text/plain": [
              "<Figure size 640x480 with 1 Axes>"
            ],
            "image/png": "[encoded data removed]"
          },
          "metadata": {}
        }
      ]
    },
    {
      "cell_type": "code",
      "source": [
        "nx.draw_networkx(sg.to_networkx(), with_labels = 1)"
      ],
      "metadata": {
        "colab": {
          "base_uri": "https://localhost:8080/",
          "height": 406
        },
        "id": "jZ8hAgzW4fPK",
        "outputId": "4f4823aa-e1b8-4b90-ecfd-069fda1a20d7"
      },
      "execution_count": null,
      "outputs": [
        {
          "output_type": "display_data",
          "data": {
            "text/plain": [
              "<Figure size 640x480 with 1 Axes>"
            ],
            "image/png": "[encoded data removed]"
          },
          "metadata": {}
        }
      ]
    },
    {
      "cell_type": "code",
      "source": [
        "sub_h = h.edge_subgraph([0, 1]) \n",
        "nx.draw_networkx(sub_h.to_networkx(), with_labels = 1)"
      ],
      "metadata": {
        "colab": {
          "base_uri": "https://localhost:8080/",
          "height": 406
        },
        "id": "_W3v2rmT4hBP",
        "outputId": "f1d2a752-f5ac-4ec9-dc9e-b51ba23de6eb"
      },
      "execution_count": null,
      "outputs": [
        {
          "output_type": "display_data",
          "data": {
            "text/plain": [
              "<Figure size 640x480 with 1 Axes>"
            ],
            "image/png": "[encoded data removed]"
          },
          "metadata": {}
        }
      ]
    },
    {
      "cell_type": "markdown",
      "source": [
        "DGLGraph.node_type_subgraph & DGLGraph.edge_type_subgraph ##??"
      ],
      "metadata": {
        "id": "m-w655CRiNRK"
      }
    },
    {
      "cell_type": "code",
      "source": [
        "# Return the subgraph induced on given node types.\n",
        "# g.node_type_subgraph =  dgl.node_type_subgraph()\n",
        "\n",
        "sub_g_n = g.node_type_subgraph(['user']) ##??\n",
        "print(sub_g_n)\n",
        "\n",
        "sub_g_e = g.edge_type_subgraph(['plays']) ##??\n",
        "print(sub_g_e)"
      ],
      "metadata": {
        "id": "Cv9wQIFS75cY",
        "colab": {
          "base_uri": "https://localhost:8080/"
        },
        "outputId": "5a4e0985-4d71-40ed-e290-735eef9ba483"
      },
      "execution_count": null,
      "outputs": [
        {
          "output_type": "stream",
          "name": "stdout",
          "text": [
            "Graph(num_nodes=4, num_edges=2,\n",
            "      ndata_schemes={}\n",
            "      edata_schemes={})\n",
            "Graph(num_nodes={'game': 5, 'user': 4},\n",
            "      num_edges={('user', 'plays', 'game'): 2},\n",
            "      metagraph=[('user', 'game', 'plays')])\n"
          ]
        }
      ]
    },
    {
      "cell_type": "markdown",
      "source": [
        "DGLGraph.__getitem__"
      ],
      "metadata": {
        "id": "3No1F5It9yKT"
      }
    },
    {
      "cell_type": "code",
      "source": [
        "# Return the relation slice of this graph.\n",
        "\n",
        "data_dict = {\n",
        "    ('user', 'follows', 'user'): (torch.tensor([0, 1]), torch.tensor([1, 2])),\n",
        "    ('user', 'follows', 'topic'): (torch.tensor([1, 1]), torch.tensor([1, 2])),\n",
        "    ('user', 'plays', 'game'): (torch.tensor([0, 3]), torch.tensor([3, 4]))\n",
        "}\n",
        "g = dgl.heterograph(data_dict)\n"
      ],
      "metadata": {
        "id": "50k5QaxLhaNH"
      },
      "execution_count": null,
      "outputs": []
    },
    {
      "cell_type": "code",
      "source": [
        "new_g1= g['user', :, 'user']\n",
        "new_g1"
      ],
      "metadata": {
        "colab": {
          "base_uri": "https://localhost:8080/"
        },
        "id": "DebX00_d9814",
        "outputId": "ce88a1e2-d23a-46ae-80c9-2f19cbf4da35"
      },
      "execution_count": null,
      "outputs": [
        {
          "output_type": "execute_result",
          "data": {
            "text/plain": [
              "Graph(num_nodes=4, num_edges=2,\n",
              "      ndata_schemes={}\n",
              "      edata_schemes={})"
            ]
          },
          "metadata": {},
          "execution_count": 8
        }
      ]
    },
    {
      "cell_type": "code",
      "source": [
        "new_g2 = g[:,'follows', 'topic']\n",
        "new_g2"
      ],
      "metadata": {
        "colab": {
          "base_uri": "https://localhost:8080/"
        },
        "id": "0driXBKK-meK",
        "outputId": "27212a96-cd3a-4ddd-85b1-28f8b714e38f"
      },
      "execution_count": null,
      "outputs": [
        {
          "output_type": "execute_result",
          "data": {
            "text/plain": [
              "Graph(num_nodes={'user': 4, 'topic': 3},\n",
              "      num_edges={('user', 'follows', 'topic'): 2},\n",
              "      metagraph=[('user', 'topic', 'follows')])"
            ]
          },
          "metadata": {},
          "execution_count": 10
        }
      ]
    },
    {
      "cell_type": "code",
      "source": [
        "new_g3 = g[:, 'follows',:]\n",
        "new_g3"
      ],
      "metadata": {
        "colab": {
          "base_uri": "https://localhost:8080/"
        },
        "id": "8vbo4Dop-3J9",
        "outputId": "5a7d4a15-ce5f-4ad9-bfce-a6cc0491b4af"
      },
      "execution_count": null,
      "outputs": [
        {
          "output_type": "execute_result",
          "data": {
            "text/plain": [
              "Graph(num_nodes={'user': 4, 'topic+user': 7},\n",
              "      num_edges={('user', 'follows+follows', 'topic+user'): 4},\n",
              "      metagraph=[('user', 'topic+user', 'follows+follows')])"
            ]
          },
          "metadata": {},
          "execution_count": 12
        }
      ]
    },
    {
      "cell_type": "markdown",
      "source": [
        "DGLGraph.line_graph  ##??"
      ],
      "metadata": {
        "id": "ugy0Pom6_ZCU"
      }
    },
    {
      "cell_type": "code",
      "source": [
        "# Return the line graph of this graph.\n",
        "# DGLGraph.line_graph = dgl.line_graph\n",
        "# for homogeneous graph\n",
        "\n",
        "h = dgl.graph((torch.tensor([0, 0, 1, 1]), torch.tensor([1, 0, 2, 3])))\n",
        "lh = h.line_graph() ##??\n",
        "nx.draw_networkx(h.to_networkx(), with_labels = 1)"
      ],
      "metadata": {
        "colab": {
          "base_uri": "https://localhost:8080/",
          "height": 406
        },
        "id": "JteSeITZ_DGv",
        "outputId": "59855d0a-a97c-4d80-c6cd-b3a1ab1ee595"
      },
      "execution_count": null,
      "outputs": [
        {
          "output_type": "display_data",
          "data": {
            "text/plain": [
              "<Figure size 640x480 with 1 Axes>"
            ],
            "image/png": "[encoded data removed]"
          },
          "metadata": {}
        }
      ]
    },
    {
      "cell_type": "code",
      "source": [
        "nx.draw_networkx(lh.to_networkx(), with_labels = 1)"
      ],
      "metadata": {
        "colab": {
          "base_uri": "https://localhost:8080/",
          "height": 406
        },
        "id": "xQeoipQYAfH2",
        "outputId": "f7e89e53-70b5-466f-fe34-9179ce6ec813"
      },
      "execution_count": null,
      "outputs": [
        {
          "output_type": "display_data",
          "data": {
            "text/plain": [
              "<Figure size 640x480 with 1 Axes>"
            ],
            "image/png": "[encoded data removed]"
          },
          "metadata": {}
        }
      ]
    },
    {
      "cell_type": "markdown",
      "source": [
        "DGLGraph.add_self_loop  ##??"
      ],
      "metadata": {
        "id": "E7avEFx_EvUk"
      }
    },
    {
      "cell_type": "code",
      "source": [
        "# Add self-loops for each node in the graph and return a new graph.\n",
        "# DGLGraph.add_self_loop = dgl.add_self_loop()\n",
        "\n",
        "h = dgl.graph((torch.tensor([0, 0, 1, 1]), torch.tensor([1, 0, 2, 3])))\n",
        "h.ndata['nfeat'] = torch.ones(4)\n",
        "h.edata['efeat'] = torch.randn(4)\n",
        "sh = h.add_self_loop(fill_data= 'sum')  ##??\n",
        "nx.draw_networkx(sh.to_networkx(), with_labels = 1)"
      ],
      "metadata": {
        "id": "PtkjfsaNAu1h",
        "colab": {
          "base_uri": "https://localhost:8080/",
          "height": 406
        },
        "outputId": "c36ec43b-0ad6-4360-a709-a0631b591fea"
      },
      "execution_count": 33,
      "outputs": [
        {
          "output_type": "display_data",
          "data": {
            "text/plain": [
              "<Figure size 640x480 with 1 Axes>"
            ],
            "image/png": "[encoded data removed]"
          },
          "metadata": {}
        }
      ]
    },
    {
      "cell_type": "markdown",
      "source": [
        "DGLGraph.remove_self_loop"
      ],
      "metadata": {
        "id": "YucNS3M9KA_f"
      }
    },
    {
      "cell_type": "code",
      "source": [
        "# Remove self-loops for each node in the graph and return a new graph.\n",
        "# DGLGraph.remove_self_loop = dgl.remove_self_loop\n",
        "\n",
        "h = dgl.graph((torch.tensor([0, 0, 1, 1]), torch.tensor([1, 0, 2, 3])))\n",
        "h.edata['efeat'] = torch.randn(4)\n",
        "rh = h.remove_self_loop() \n",
        "nx.draw_networkx(rh.to_networkx(), with_labels = 1)"
      ],
      "metadata": {
        "colab": {
          "base_uri": "https://localhost:8080/",
          "height": 406
        },
        "id": "_SoDSmNfHTA1",
        "outputId": "5e534975-5fd1-40aa-c92f-99b1d66a8fda"
      },
      "execution_count": 34,
      "outputs": [
        {
          "output_type": "display_data",
          "data": {
            "text/plain": [
              "<Figure size 640x480 with 1 Axes>"
            ],
            "image/png": "[encoded data removed]"
          },
          "metadata": {}
        }
      ]
    },
    {
      "cell_type": "markdown",
      "source": [
        "DGLGraph.to_simple"
      ],
      "metadata": {
        "id": "BWPmsarnPM19"
      }
    },
    {
      "cell_type": "code",
      "source": [
        "# Convert a graph to a simple graph without parallel edges and return.\n",
        "# DGLGraph.to_simple = dgl.to_simple\n",
        "\n",
        "# for homogeneous graph\n",
        "h = dgl.graph(([0, 1, 2, 1],[1, 2, 0, 2]))\n",
        "sh = dgl.to_simple(h)"
      ],
      "metadata": {
        "id": "W2juJcu9KhW3"
      },
      "execution_count": 37,
      "outputs": []
    },
    {
      "cell_type": "code",
      "source": [
        "nx.draw_networkx(h.to_networkx(), with_labels = 1)"
      ],
      "metadata": {
        "colab": {
          "base_uri": "https://localhost:8080/",
          "height": 406
        },
        "id": "WA8s0y5YPjAq",
        "outputId": "33dc3021-84c6-4280-b40c-8a419180b107"
      },
      "execution_count": 38,
      "outputs": [
        {
          "output_type": "display_data",
          "data": {
            "text/plain": [
              "<Figure size 640x480 with 1 Axes>"
            ],
            "image/png": "[encoded data removed]"
          },
          "metadata": {}
        }
      ]
    },
    {
      "cell_type": "code",
      "source": [
        "nx.draw_networkx(sh.to_networkx(), with_labels = 1)"
      ],
      "metadata": {
        "colab": {
          "base_uri": "https://localhost:8080/",
          "height": 406
        },
        "id": "n5ttiEBAUjNO",
        "outputId": "06ebdaf6-ab1f-47ab-a16a-12f8ea8193dc"
      },
      "execution_count": 39,
      "outputs": [
        {
          "output_type": "display_data",
          "data": {
            "text/plain": [
              "<Figure size 640x480 with 1 Axes>"
            ],
            "image/png": "[encoded data removed]"
          },
          "metadata": {}
        }
      ]
    },
    {
      "cell_type": "markdown",
      "source": [
        "DGLGraph.reorder_graph"
      ],
      "metadata": {
        "id": "aN6ZP_9pVpT0"
      }
    },
    {
      "cell_type": "code",
      "source": [
        "# Return a new graph with nodes and edges re-ordered/re-labeled according to\n",
        "# the specified permute algorithm.\n",
        "# Support homogeneous graph only for the moment.\n",
        "\n",
        "h = dgl.graph((torch.tensor([0, 0, 1, 1]), torch.tensor([1, 0, 2, 3])))\n",
        "\n",
        "#Reorder according to 'rcmk' permute algorithm.\n",
        "rh = h.reorder_graph(node_permute_algo= 'rcmk')"
      ],
      "metadata": {
        "id": "kC7WQJAdVRaZ"
      },
      "execution_count": 41,
      "outputs": []
    },
    {
      "cell_type": "code",
      "source": [
        "nx.draw_networkx(rh.to_networkx(), with_labels = 1)"
      ],
      "metadata": {
        "colab": {
          "base_uri": "https://localhost:8080/",
          "height": 406
        },
        "id": "yTVFq0_SXaj1",
        "outputId": "f19cf416-7646-476d-e851-218bf8023563"
      },
      "execution_count": 42,
      "outputs": [
        {
          "output_type": "display_data",
          "data": {
            "text/plain": [
              "<Figure size 640x480 with 1 Axes>"
            ],
            "image/png": "[encoded data removed]"
          },
          "metadata": {}
        }
      ]
    },
    {
      "cell_type": "markdown",
      "source": [
        "dgl.in_subgraph ##??"
      ],
      "metadata": {
        "id": "pA_gIk_laPRE"
      }
    },
    {
      "cell_type": "code",
      "source": [
        "# Return the subgraph induced on the inbound edges of all the edge types of the given nodes.\n",
        "h = dgl.graph((torch.tensor([0, 0, 1, 1]), torch.tensor([1, 0, 2, 3])))\n",
        "sh = h.in_subgraph([1, 0]) ## induced , loop ??\n",
        "nx.draw_networkx(sh.to_networkx(), with_labels = 1)"
      ],
      "metadata": {
        "colab": {
          "base_uri": "https://localhost:8080/",
          "height": 406
        },
        "id": "6w0lBYCKXfJ_",
        "outputId": "2b512577-72ed-4d0a-9b17-e0cd2334ca26"
      },
      "execution_count": 49,
      "outputs": [
        {
          "output_type": "display_data",
          "data": {
            "text/plain": [
              "<Figure size 640x480 with 1 Axes>"
            ],
            "image/png": "[encoded data removed]"
          },
          "metadata": {}
        }
      ]
    },
    {
      "cell_type": "markdown",
      "source": [
        "dgl.out_subgraph"
      ],
      "metadata": {
        "id": "BlRO1MUKbUDw"
      }
    },
    {
      "cell_type": "code",
      "source": [
        "# Return the subgraph induced on the outbound  edges of all the edge types of the given nodes.\n",
        "h = dgl.graph((torch.tensor([0, 0, 1, 1]), torch.tensor([1, 0, 2, 3])))\n",
        "sh = h.out_subgraph([2, 3])\n",
        "nx.draw_networkx(sh.to_networkx(), with_labels = 1)"
      ],
      "metadata": {
        "colab": {
          "base_uri": "https://localhost:8080/",
          "height": 406
        },
        "id": "P83oXY0YZuez",
        "outputId": "473c248b-5b95-41a4-98f5-671e218de6d9"
      },
      "execution_count": 53,
      "outputs": [
        {
          "output_type": "display_data",
          "data": {
            "text/plain": [
              "<Figure size 640x480 with 1 Axes>"
            ],
            "image/png": "[encoded data removed]"
          },
          "metadata": {}
        }
      ]
    },
    {
      "cell_type": "markdown",
      "source": [
        "dgl.khop_out_subgraph & dgl.khop_in_subgraph ##??"
      ],
      "metadata": {
        "id": "LyyR9GkocDZo"
      }
    },
    {
      "cell_type": "code",
      "source": [
        "# Return the subgraph induced by k-hop out-neighborhood of the specified node(s).\n",
        "h = dgl.graph((torch.tensor([0, 0, 1, 1]), torch.tensor([1, 0, 2, 3])))\n",
        "sh = h.khop_out_subgraph(0, k=2) ##??"
      ],
      "metadata": {
        "id": "w12rYptSawJO"
      },
      "execution_count": 57,
      "outputs": []
    },
    {
      "cell_type": "code",
      "source": [
        "from dgl.data.utils import save_graphs\n",
        "save_graphs(\"./data.bin\", [g, h])"
      ],
      "metadata": {
        "id": "iXRXiqGeceJm"
      },
      "execution_count": 60,
      "outputs": []
    },
    {
      "cell_type": "code",
      "source": [
        "from dgl.data.utils import load_graphs\n",
        "glist = load_graphs(\"./data.bin\")"
      ],
      "metadata": {
        "id": "9UgMxmkhdbKv"
      },
      "execution_count": 61,
      "outputs": []
    },
    {
      "cell_type": "code",
      "source": [],
      "metadata": {
        "id": "HwBdyJIId19e"
      },
      "execution_count": null,
      "outputs": []
    }
  ]
}