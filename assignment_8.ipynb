{
  "nbformat": 4,
  "nbformat_minor": 0,
  "metadata": {
    "colab": {
      "provenance": []
    },
    "kernelspec": {
      "name": "python3",
      "display_name": "Python 3"
    },
    "language_info": {
      "name": "python"
    }
  },
  "cells": [
    {
      "cell_type": "code",
      "execution_count": 1,
      "metadata": {
        "colab": {
          "base_uri": "https://localhost:8080/"
        },
        "id": "0w6k6nP9fiLh",
        "outputId": "85ecc25d-a62b-4346-822f-6e8b7dd32555"
      },
      "outputs": [
        {
          "output_type": "stream",
          "name": "stdout",
          "text": [
            "Looking in indexes: https://pypi.org/simple, https://us-python.pkg.dev/colab-wheels/public/simple/\n",
            "Looking in links: https://data.dgl.ai/wheels/repo.html\n",
            "Collecting dgl\n",
            "  Downloading dgl-1.1.0-cp310-cp310-manylinux1_x86_64.whl (5.9 MB)\n",
            "\u001b[2K     \u001b[90m━━━━━━━━━━━━━━━━━━━━━━━━━━━━━━━━━━━━━━━━\u001b[0m \u001b[32m5.9/5.9 MB\u001b[0m \u001b[31m45.1 MB/s\u001b[0m eta \u001b[36m0:00:00\u001b[0m\n",
            "\u001b[?25hRequirement already satisfied: numpy>=1.14.0 in /usr/local/lib/python3.10/dist-packages (from dgl) (1.22.4)\n",
            "Requirement already satisfied: scipy>=1.1.0 in /usr/local/lib/python3.10/dist-packages (from dgl) (1.10.1)\n",
            "Requirement already satisfied: networkx>=2.1 in /usr/local/lib/python3.10/dist-packages (from dgl) (3.1)\n",
            "Requirement already satisfied: requests>=2.19.0 in /usr/local/lib/python3.10/dist-packages (from dgl) (2.27.1)\n",
            "Requirement already satisfied: tqdm in /usr/local/lib/python3.10/dist-packages (from dgl) (4.65.0)\n",
            "Requirement already satisfied: psutil>=5.8.0 in /usr/local/lib/python3.10/dist-packages (from dgl) (5.9.5)\n",
            "Requirement already satisfied: urllib3<1.27,>=1.21.1 in /usr/local/lib/python3.10/dist-packages (from requests>=2.19.0->dgl) (1.26.15)\n",
            "Requirement already satisfied: certifi>=2017.4.17 in /usr/local/lib/python3.10/dist-packages (from requests>=2.19.0->dgl) (2022.12.7)\n",
            "Requirement already satisfied: charset-normalizer~=2.0.0 in /usr/local/lib/python3.10/dist-packages (from requests>=2.19.0->dgl) (2.0.12)\n",
            "Requirement already satisfied: idna<4,>=2.5 in /usr/local/lib/python3.10/dist-packages (from requests>=2.19.0->dgl) (3.4)\n",
            "Installing collected packages: dgl\n",
            "Successfully installed dgl-1.1.0\n",
            "Looking in indexes: https://pypi.org/simple, https://us-python.pkg.dev/colab-wheels/public/simple/\n",
            "Looking in links: https://data.dgl.ai/wheels-test/repo.html\n",
            "Collecting dglgo\n",
            "  Downloading dglgo-0.0.2-py3-none-any.whl (63 kB)\n",
            "\u001b[2K     \u001b[90m━━━━━━━━━━━━━━━━━━━━━━━━━━━━━━━━━━━━━━━━\u001b[0m \u001b[32m63.5/63.5 kB\u001b[0m \u001b[31m3.5 MB/s\u001b[0m eta \u001b[36m0:00:00\u001b[0m\n",
            "\u001b[?25hRequirement already satisfied: typer>=0.4.0 in /usr/local/lib/python3.10/dist-packages (from dglgo) (0.7.0)\n",
            "Collecting isort>=5.10.1 (from dglgo)\n",
            "  Downloading isort-5.12.0-py3-none-any.whl (91 kB)\n",
            "\u001b[2K     \u001b[90m━━━━━━━━━━━━━━━━━━━━━━━━━━━━━━━━━━━━━━━━\u001b[0m \u001b[32m91.2/91.2 kB\u001b[0m \u001b[31m11.4 MB/s\u001b[0m eta \u001b[36m0:00:00\u001b[0m\n",
            "\u001b[?25hCollecting autopep8>=1.6.0 (from dglgo)\n",
            "  Downloading autopep8-2.0.2-py2.py3-none-any.whl (45 kB)\n",
            "\u001b[2K     \u001b[90m━━━━━━━━━━━━━━━━━━━━━━━━━━━━━━━━━━━━━━━━\u001b[0m \u001b[32m45.2/45.2 kB\u001b[0m \u001b[31m5.0 MB/s\u001b[0m eta \u001b[36m0:00:00\u001b[0m\n",
            "\u001b[?25hCollecting numpydoc>=1.1.0 (from dglgo)\n",
            "  Downloading numpydoc-1.5.0-py3-none-any.whl (52 kB)\n",
            "\u001b[2K     \u001b[90m━━━━━━━━━━━━━━━━━━━━━━━━━━━━━━━━━━━━━━━━\u001b[0m \u001b[32m52.4/52.4 kB\u001b[0m \u001b[31m6.8 MB/s\u001b[0m eta \u001b[36m0:00:00\u001b[0m\n",
            "\u001b[?25hRequirement already satisfied: pydantic>=1.9.0 in /usr/local/lib/python3.10/dist-packages (from dglgo) (1.10.7)\n",
            "Collecting ruamel.yaml>=0.17.20 (from dglgo)\n",
            "  Downloading ruamel.yaml-0.17.32-py3-none-any.whl (112 kB)\n",
            "\u001b[2K     \u001b[90m━━━━━━━━━━━━━━━━━━━━━━━━━━━━━━━━━━━━━━━\u001b[0m \u001b[32m112.2/112.2 kB\u001b[0m \u001b[31m5.5 MB/s\u001b[0m eta \u001b[36m0:00:00\u001b[0m\n",
            "\u001b[?25hRequirement already satisfied: PyYAML>=5.1 in /usr/local/lib/python3.10/dist-packages (from dglgo) (6.0)\n",
            "Collecting ogb>=1.3.3 (from dglgo)\n",
            "  Downloading ogb-1.3.6-py3-none-any.whl (78 kB)\n",
            "\u001b[2K     \u001b[90m━━━━━━━━━━━━━━━━━━━━━━━━━━━━━━━━━━━━━━━━\u001b[0m \u001b[32m78.8/78.8 kB\u001b[0m \u001b[31m10.5 MB/s\u001b[0m eta \u001b[36m0:00:00\u001b[0m\n",
            "\u001b[?25hCollecting rdkit-pypi (from dglgo)\n",
            "  Downloading rdkit_pypi-2022.9.5-cp310-cp310-manylinux_2_17_x86_64.manylinux2014_x86_64.whl (29.4 MB)\n",
            "\u001b[2K     \u001b[90m━━━━━━━━━━━━━━━━━━━━━━━━━━━━━━━━━━━━━━━━\u001b[0m \u001b[32m29.4/29.4 MB\u001b[0m \u001b[31m47.6 MB/s\u001b[0m eta \u001b[36m0:00:00\u001b[0m\n",
            "\u001b[?25hRequirement already satisfied: scikit-learn>=0.20.0 in /usr/local/lib/python3.10/dist-packages (from dglgo) (1.2.2)\n",
            "Collecting pycodestyle>=2.10.0 (from autopep8>=1.6.0->dglgo)\n",
            "  Downloading pycodestyle-2.10.0-py2.py3-none-any.whl (41 kB)\n",
            "\u001b[2K     \u001b[90m━━━━━━━━━━━━━━━━━━━━━━━━━━━━━━━━━━━━━━━━\u001b[0m \u001b[32m41.3/41.3 kB\u001b[0m \u001b[31m5.4 MB/s\u001b[0m eta \u001b[36m0:00:00\u001b[0m\n",
            "\u001b[?25hRequirement already satisfied: tomli in /usr/local/lib/python3.10/dist-packages (from autopep8>=1.6.0->dglgo) (2.0.1)\n",
            "Collecting sphinx>=4.2 (from numpydoc>=1.1.0->dglgo)\n",
            "  Downloading sphinx-7.0.1-py3-none-any.whl (3.0 MB)\n",
            "\u001b[2K     \u001b[90m━━━━━━━━━━━━━━━━━━━━━━━━━━━━━━━━━━━━━━━━\u001b[0m \u001b[32m3.0/3.0 MB\u001b[0m \u001b[31m71.8 MB/s\u001b[0m eta \u001b[36m0:00:00\u001b[0m\n",
            "\u001b[?25hRequirement already satisfied: Jinja2>=2.10 in /usr/local/lib/python3.10/dist-packages (from numpydoc>=1.1.0->dglgo) (3.1.2)\n",
            "Requirement already satisfied: torch>=1.6.0 in /usr/local/lib/python3.10/dist-packages (from ogb>=1.3.3->dglgo) (2.0.1+cu118)\n",
            "Requirement already satisfied: numpy>=1.16.0 in /usr/local/lib/python3.10/dist-packages (from ogb>=1.3.3->dglgo) (1.22.4)\n",
            "Requirement already satisfied: tqdm>=4.29.0 in /usr/local/lib/python3.10/dist-packages (from ogb>=1.3.3->dglgo) (4.65.0)\n",
            "Requirement already satisfied: pandas>=0.24.0 in /usr/local/lib/python3.10/dist-packages (from ogb>=1.3.3->dglgo) (1.5.3)\n",
            "Requirement already satisfied: six>=1.12.0 in /usr/local/lib/python3.10/dist-packages (from ogb>=1.3.3->dglgo) (1.16.0)\n",
            "Requirement already satisfied: urllib3>=1.24.0 in /usr/local/lib/python3.10/dist-packages (from ogb>=1.3.3->dglgo) (1.26.15)\n",
            "Collecting outdated>=0.2.0 (from ogb>=1.3.3->dglgo)\n",
            "  Downloading outdated-0.2.2-py2.py3-none-any.whl (7.5 kB)\n",
            "Requirement already satisfied: typing-extensions>=4.2.0 in /usr/local/lib/python3.10/dist-packages (from pydantic>=1.9.0->dglgo) (4.5.0)\n",
            "Collecting ruamel.yaml.clib>=0.2.7 (from ruamel.yaml>=0.17.20->dglgo)\n",
            "  Downloading ruamel.yaml.clib-0.2.7-cp310-cp310-manylinux_2_17_x86_64.manylinux2014_x86_64.manylinux_2_24_x86_64.whl (485 kB)\n",
            "\u001b[2K     \u001b[90m━━━━━━━━━━━━━━━━━━━━━━━━━━━━━━━━━━━━━━\u001b[0m \u001b[32m485.6/485.6 kB\u001b[0m \u001b[31m50.1 MB/s\u001b[0m eta \u001b[36m0:00:00\u001b[0m\n",
            "\u001b[?25hRequirement already satisfied: scipy>=1.3.2 in /usr/local/lib/python3.10/dist-packages (from scikit-learn>=0.20.0->dglgo) (1.10.1)\n",
            "Requirement already satisfied: joblib>=1.1.1 in /usr/local/lib/python3.10/dist-packages (from scikit-learn>=0.20.0->dglgo) (1.2.0)\n",
            "Requirement already satisfied: threadpoolctl>=2.0.0 in /usr/local/lib/python3.10/dist-packages (from scikit-learn>=0.20.0->dglgo) (3.1.0)\n",
            "Requirement already satisfied: click<9.0.0,>=7.1.1 in /usr/local/lib/python3.10/dist-packages (from typer>=0.4.0->dglgo) (8.1.3)\n",
            "Requirement already satisfied: Pillow in /usr/local/lib/python3.10/dist-packages (from rdkit-pypi->dglgo) (8.4.0)\n",
            "Requirement already satisfied: MarkupSafe>=2.0 in /usr/local/lib/python3.10/dist-packages (from Jinja2>=2.10->numpydoc>=1.1.0->dglgo) (2.1.2)\n",
            "Requirement already satisfied: setuptools>=44 in /usr/local/lib/python3.10/dist-packages (from outdated>=0.2.0->ogb>=1.3.3->dglgo) (67.7.2)\n",
            "Collecting littleutils (from outdated>=0.2.0->ogb>=1.3.3->dglgo)\n",
            "  Downloading littleutils-0.2.2.tar.gz (6.6 kB)\n",
            "  Preparing metadata (setup.py) ... \u001b[?25l\u001b[?25hdone\n",
            "Requirement already satisfied: requests in /usr/local/lib/python3.10/dist-packages (from outdated>=0.2.0->ogb>=1.3.3->dglgo) (2.27.1)\n",
            "Requirement already satisfied: python-dateutil>=2.8.1 in /usr/local/lib/python3.10/dist-packages (from pandas>=0.24.0->ogb>=1.3.3->dglgo) (2.8.2)\n",
            "Requirement already satisfied: pytz>=2020.1 in /usr/local/lib/python3.10/dist-packages (from pandas>=0.24.0->ogb>=1.3.3->dglgo) (2022.7.1)\n",
            "Requirement already satisfied: sphinxcontrib-applehelp in /usr/local/lib/python3.10/dist-packages (from sphinx>=4.2->numpydoc>=1.1.0->dglgo) (1.0.4)\n",
            "Requirement already satisfied: sphinxcontrib-devhelp in /usr/local/lib/python3.10/dist-packages (from sphinx>=4.2->numpydoc>=1.1.0->dglgo) (1.0.2)\n",
            "Requirement already satisfied: sphinxcontrib-jsmath in /usr/local/lib/python3.10/dist-packages (from sphinx>=4.2->numpydoc>=1.1.0->dglgo) (1.0.1)\n",
            "Requirement already satisfied: sphinxcontrib-htmlhelp>=2.0.0 in /usr/local/lib/python3.10/dist-packages (from sphinx>=4.2->numpydoc>=1.1.0->dglgo) (2.0.1)\n",
            "Requirement already satisfied: sphinxcontrib-serializinghtml>=1.1.5 in /usr/local/lib/python3.10/dist-packages (from sphinx>=4.2->numpydoc>=1.1.0->dglgo) (1.1.5)\n",
            "Requirement already satisfied: sphinxcontrib-qthelp in /usr/local/lib/python3.10/dist-packages (from sphinx>=4.2->numpydoc>=1.1.0->dglgo) (1.0.3)\n",
            "Requirement already satisfied: Pygments>=2.13 in /usr/local/lib/python3.10/dist-packages (from sphinx>=4.2->numpydoc>=1.1.0->dglgo) (2.14.0)\n",
            "Collecting docutils<0.21,>=0.18.1 (from sphinx>=4.2->numpydoc>=1.1.0->dglgo)\n",
            "  Downloading docutils-0.20.1-py3-none-any.whl (572 kB)\n",
            "\u001b[2K     \u001b[90m━━━━━━━━━━━━━━━━━━━━━━━━━━━━━━━━━━━━━━\u001b[0m \u001b[32m572.7/572.7 kB\u001b[0m \u001b[31m43.6 MB/s\u001b[0m eta \u001b[36m0:00:00\u001b[0m\n",
            "\u001b[?25hRequirement already satisfied: snowballstemmer>=2.0 in /usr/local/lib/python3.10/dist-packages (from sphinx>=4.2->numpydoc>=1.1.0->dglgo) (2.2.0)\n",
            "Requirement already satisfied: babel>=2.9 in /usr/local/lib/python3.10/dist-packages (from sphinx>=4.2->numpydoc>=1.1.0->dglgo) (2.12.1)\n",
            "Requirement already satisfied: alabaster<0.8,>=0.7 in /usr/local/lib/python3.10/dist-packages (from sphinx>=4.2->numpydoc>=1.1.0->dglgo) (0.7.13)\n",
            "Requirement already satisfied: imagesize>=1.3 in /usr/local/lib/python3.10/dist-packages (from sphinx>=4.2->numpydoc>=1.1.0->dglgo) (1.4.1)\n",
            "Requirement already satisfied: packaging>=21.0 in /usr/local/lib/python3.10/dist-packages (from sphinx>=4.2->numpydoc>=1.1.0->dglgo) (23.1)\n",
            "Requirement already satisfied: filelock in /usr/local/lib/python3.10/dist-packages (from torch>=1.6.0->ogb>=1.3.3->dglgo) (3.12.0)\n",
            "Requirement already satisfied: sympy in /usr/local/lib/python3.10/dist-packages (from torch>=1.6.0->ogb>=1.3.3->dglgo) (1.11.1)\n",
            "Requirement already satisfied: networkx in /usr/local/lib/python3.10/dist-packages (from torch>=1.6.0->ogb>=1.3.3->dglgo) (3.1)\n",
            "Requirement already satisfied: triton==2.0.0 in /usr/local/lib/python3.10/dist-packages (from torch>=1.6.0->ogb>=1.3.3->dglgo) (2.0.0)\n",
            "Requirement already satisfied: cmake in /usr/local/lib/python3.10/dist-packages (from triton==2.0.0->torch>=1.6.0->ogb>=1.3.3->dglgo) (3.25.2)\n",
            "Requirement already satisfied: lit in /usr/local/lib/python3.10/dist-packages (from triton==2.0.0->torch>=1.6.0->ogb>=1.3.3->dglgo) (16.0.5)\n",
            "Requirement already satisfied: certifi>=2017.4.17 in /usr/local/lib/python3.10/dist-packages (from requests->outdated>=0.2.0->ogb>=1.3.3->dglgo) (2022.12.7)\n",
            "Requirement already satisfied: charset-normalizer~=2.0.0 in /usr/local/lib/python3.10/dist-packages (from requests->outdated>=0.2.0->ogb>=1.3.3->dglgo) (2.0.12)\n",
            "Requirement already satisfied: idna<4,>=2.5 in /usr/local/lib/python3.10/dist-packages (from requests->outdated>=0.2.0->ogb>=1.3.3->dglgo) (3.4)\n",
            "Requirement already satisfied: mpmath>=0.19 in /usr/local/lib/python3.10/dist-packages (from sympy->torch>=1.6.0->ogb>=1.3.3->dglgo) (1.3.0)\n",
            "Building wheels for collected packages: littleutils\n",
            "  Building wheel for littleutils (setup.py) ... \u001b[?25l\u001b[?25hdone\n",
            "  Created wheel for littleutils: filename=littleutils-0.2.2-py3-none-any.whl size=7029 sha256=bb574691e1b552789f861a4a8d5f0aab52687c75d5c711a8598cb14d810ddfb0\n",
            "  Stored in directory: /root/.cache/pip/wheels/3d/fe/b0/27a9892da57472e538c7452a721a9cf463cc03cf7379889266\n",
            "Successfully built littleutils\n",
            "Installing collected packages: littleutils, ruamel.yaml.clib, rdkit-pypi, pycodestyle, isort, docutils, sphinx, ruamel.yaml, outdated, autopep8, numpydoc, ogb, dglgo\n",
            "  Attempting uninstall: docutils\n",
            "    Found existing installation: docutils 0.16\n",
            "    Uninstalling docutils-0.16:\n",
            "      Successfully uninstalled docutils-0.16\n",
            "  Attempting uninstall: sphinx\n",
            "    Found existing installation: Sphinx 3.5.4\n",
            "    Uninstalling Sphinx-3.5.4:\n",
            "      Successfully uninstalled Sphinx-3.5.4\n",
            "Successfully installed autopep8-2.0.2 dglgo-0.0.2 docutils-0.20.1 isort-5.12.0 littleutils-0.2.2 numpydoc-1.5.0 ogb-1.3.6 outdated-0.2.2 pycodestyle-2.10.0 rdkit-pypi-2022.9.5 ruamel.yaml-0.17.32 ruamel.yaml.clib-0.2.7 sphinx-7.0.1\n"
          ]
        }
      ],
      "source": [
        "!pip install dgl -f https://data.dgl.ai/wheels/repo.html\n",
        "\n",
        "!pip install dglgo -f https://data.dgl.ai/wheels-test/repo.html"
      ]
    },
    {
      "cell_type": "code",
      "source": [
        "%matplotlib inline\n",
        "import os\n",
        "\n",
        "os.environ[\"DGLBACKEND\"] = \"pytorch\"\n",
        "import dgl\n",
        "import numpy as np\n",
        "import networkx as nx\n",
        "import torch\n",
        "import torch.nn as nn"
      ],
      "metadata": {
        "id": "AVP0V_zVfy6g"
      },
      "execution_count": 27,
      "outputs": []
    },
    {
      "cell_type": "markdown",
      "source": [
        "create homogeneous graph"
      ],
      "metadata": {
        "id": "95PuM4z5gNQV"
      }
    },
    {
      "cell_type": "code",
      "source": [
        "h = dgl.graph(([0, 1, 2], [1, 3, 3]))\n",
        "nx.draw_networkx(h.to_networkx(), with_labels = True)"
      ],
      "metadata": {
        "colab": {
          "base_uri": "https://localhost:8080/",
          "height": 406
        },
        "id": "tVEagAzKgMPF",
        "outputId": "4634c590-faa7-493d-88df-28fda79cbd7c"
      },
      "execution_count": 63,
      "outputs": [
        {
          "output_type": "display_data",
          "data": {
            "text/plain": [
              "<Figure size 640x480 with 1 Axes>"
            ],
            "image/png": "[encoded data removed]"
          },
          "metadata": {}
        }
      ]
    },
    {
      "cell_type": "markdown",
      "source": [
        "DGLGraph.apply_nodes"
      ],
      "metadata": {
        "id": "c8yD3PZYhfWr"
      }
    },
    {
      "cell_type": "code",
      "source": [
        "#Update the features of the specified nodes by the provided function.\n",
        "h = dgl.graph(([0, 1, 2], [1, 3, 3]))\n",
        "h.ndata['h'] = torch.ones(4, 2) #features of nodes\n",
        "h.apply_nodes(lambda nodes:{'x' : np.sin(nodes.data['h'])}) #user_ defined finction\n",
        "                                                      # exp : nodes.data['h'] = h.nodes[1].data['h']\n",
        "print('h:',h.ndata['h'])\n",
        "print('\\n')\n",
        "print('x:', h.ndata['x'])"
      ],
      "metadata": {
        "colab": {
          "base_uri": "https://localhost:8080/"
        },
        "id": "somguTurgKC4",
        "outputId": "c4c3b811-70b1-4e88-a738-46a5d402c061"
      },
      "execution_count": 72,
      "outputs": [
        {
          "output_type": "stream",
          "name": "stdout",
          "text": [
            "h: tensor([[1., 1.],\n",
            "        [1., 1.],\n",
            "        [1., 1.],\n",
            "        [1., 1.]])\n",
            "\n",
            "\n",
            "x: tensor([[0.8415, 0.8415],\n",
            "        [0.8415, 0.8415],\n",
            "        [0.8415, 0.8415],\n",
            "        [0.8415, 0.8415]])\n"
          ]
        }
      ]
    },
    {
      "cell_type": "markdown",
      "source": [
        "DGLGraph.apply_edges"
      ],
      "metadata": {
        "id": "tTlNg38klbP9"
      }
    },
    {
      "cell_type": "code",
      "source": [
        "# Update the features of the specified edges by the provided function.\n",
        "h = dgl.graph(([0, 1, 2], [1, 3, 3]))\n",
        "h.ndata['h'] = torch.ones(4, 2) #features of nodes\n",
        "h.apply_edges(lambda edges : {'x': edges.src['h']+ edges.dst['h']+1}) # user definded :\n",
        "                                                                    # give edge ; edge feature (A, B) = feature node (A) + feature node (B) +1\n",
        "h.edata['x']"
      ],
      "metadata": {
        "colab": {
          "base_uri": "https://localhost:8080/"
        },
        "id": "g9OFkZUskh-t",
        "outputId": "558cea0f-127c-4630-cffb-3698cbb91a1e"
      },
      "execution_count": 73,
      "outputs": [
        {
          "output_type": "execute_result",
          "data": {
            "text/plain": [
              "tensor([[3., 3.],\n",
              "        [3., 3.],\n",
              "        [3., 3.]])"
            ]
          },
          "metadata": {},
          "execution_count": 73
        }
      ]
    },
    {
      "cell_type": "markdown",
      "source": [
        "DGLGraph.send_and_recv"
      ],
      "metadata": {
        "id": "LbhuzyEKmnRY"
      }
    },
    {
      "cell_type": "code",
      "source": [
        "# Send messages along the specified edges and reduce them on the destination nodes to update their features\n",
        "h = dgl.graph(([0, 1, 2], [1, 3, 3]))\n",
        "h.ndata['h'] = torch.ones(4, 2) #features of nodes\n",
        "\n",
        "# Define the function for sending node features as messages.\n",
        "def send_source(edges):\n",
        "  return {'m': edges.src['h']} #given edges, then send it's source node features as message.\n",
        "\n",
        "# Sum the messages received and use this to replace the original node feature.\n",
        "def simple_reduce(nodes):\n",
        "  return {'x': nodes.mailbox['m'].sum(1)}\n",
        "\n",
        "\n",
        "h.send_and_recv(([0, 2], [1, 3]), send_source, simple_reduce )\n",
        "h.ndata['x']"
      ],
      "metadata": {
        "colab": {
          "base_uri": "https://localhost:8080/"
        },
        "id": "8QkGkbXYl_AI",
        "outputId": "0bda4842-ee28-4e17-cdd9-bb15a7138a53"
      },
      "execution_count": 74,
      "outputs": [
        {
          "output_type": "execute_result",
          "data": {
            "text/plain": [
              "tensor([[0., 0.],\n",
              "        [1., 1.],\n",
              "        [0., 0.],\n",
              "        [1., 1.]])"
            ]
          },
          "metadata": {},
          "execution_count": 74
        }
      ]
    },
    {
      "cell_type": "markdown",
      "source": [
        "dgl.DGLGraph.pull"
      ],
      "metadata": {
        "id": "2MpnWMfj62KA"
      }
    },
    {
      "cell_type": "code",
      "source": [
        "#Pull messages from the specified node(s)’ predecessors along the specified edge type, aggregate them to update the node features.\n",
        "import dgl.function as fn\n",
        "h = dgl.graph(([0, 1, 2], [1, 3, 3]))\n",
        "h.ndata['h'] = torch.ones(4, 2)\n",
        "h.pull([0, 3], fn.copy_u('h', 'm'), fn.mean('m', 'x')) #fn.copy_u('h', 'm') is message function\n",
        "                                                      # fn.mean('m', 'x') is reduce function\n",
        "h.ndata['x']\n",
        "#node 0 has no input then it's feature doesn't updata\n",
        "#node 3 update it's feature according to feature of node 2"
      ],
      "metadata": {
        "id": "TSUj2EbR2lcy",
        "colab": {
          "base_uri": "https://localhost:8080/"
        },
        "outputId": "16303231-adc2-405c-e958-930ea5aebb3b"
      },
      "execution_count": 76,
      "outputs": [
        {
          "output_type": "execute_result",
          "data": {
            "text/plain": [
              "tensor([[0., 0.],\n",
              "        [0., 0.],\n",
              "        [0., 0.],\n",
              "        [1., 1.]])"
            ]
          },
          "metadata": {},
          "execution_count": 76
        }
      ]
    },
    {
      "cell_type": "markdown",
      "source": [
        "dgl.DGLGraph.push"
      ],
      "metadata": {
        "id": "8N7_NB_PAY5e"
      }
    },
    {
      "cell_type": "code",
      "source": [
        "#Send message from the specified node(s) to their successors along the specified edge type and update their node features.\n",
        "h = dgl.graph(([0, 1, 2], [1, 3, 3]))\n",
        "h.ndata['h'] = torch.ones(4, 2)\n",
        "h.push([0, 2], fn.copy_u('h', 'm'), fn.mean('m', 'x')) #fn.copy_u('h', 'm') is message function\n",
        "                                                      # fn.sum('m', 'x') is reduce function\n",
        "h.ndata['x']\n",
        "\n",
        "#feature of node 0 is send to node 1\n",
        "#feature of node 2 is send to node 3"
      ],
      "metadata": {
        "colab": {
          "base_uri": "https://localhost:8080/"
        },
        "id": "Y5EdAZlo7wU-",
        "outputId": "5c892526-7aff-4e9a-a3a9-0b21fd913783"
      },
      "execution_count": 79,
      "outputs": [
        {
          "output_type": "execute_result",
          "data": {
            "text/plain": [
              "tensor([[0., 0.],\n",
              "        [1., 1.],\n",
              "        [0., 0.],\n",
              "        [1., 1.]])"
            ]
          },
          "metadata": {},
          "execution_count": 79
        }
      ]
    },
    {
      "cell_type": "markdown",
      "source": [
        "dgl.DGLGraph.update_all"
      ],
      "metadata": {
        "id": "sA7U4MRbDT7S"
      }
    },
    {
      "cell_type": "code",
      "source": [
        "#Send messages along all the edges of the specified type and update all the nodes of the corresponding destination type.\n",
        "h = dgl.graph(([0, 1, 2], [1, 3, 3]))\n",
        "h.ndata['h'] = torch.ones(4, 2)\n",
        "h.update_all(fn.copy_u('h', 'm'), fn.mean('m', 'x')) #fn.copy_u('h', 'm') is message function\n",
        "                                                      # fn.mean('m', 'x') is reduce function\n",
        "h.ndata['x']\n",
        "#The features of all nodes update except node 0 and 2 because they have no input."
      ],
      "metadata": {
        "colab": {
          "base_uri": "https://localhost:8080/"
        },
        "id": "B30abDo0Aqnx",
        "outputId": "d70fc219-6442-4f15-9492-29c35dbd2eb7"
      },
      "execution_count": 78,
      "outputs": [
        {
          "output_type": "execute_result",
          "data": {
            "text/plain": [
              "tensor([[0., 0.],\n",
              "        [1., 1.],\n",
              "        [0., 0.],\n",
              "        [1., 1.]])"
            ]
          },
          "metadata": {},
          "execution_count": 78
        }
      ]
    },
    {
      "cell_type": "markdown",
      "source": [
        "dgl.function.copy_u"
      ],
      "metadata": {
        "id": "-KEjPSX2K_Vz"
      }
    },
    {
      "cell_type": "code",
      "source": [
        "h = dgl.graph(([0, 1, 2], [1, 3, 3]))\n",
        "h.ndata['h'] = torch.ones(4, 2)\n",
        "\n",
        "message_func = dgl.function.copy_u('h', 'm')\n",
        "\n",
        "def simple_reduce(nodes):\n",
        "  return {'x': nodes.mailbox['m'].sum(1)}\n",
        "\n",
        "\n",
        "h.send_and_recv(([0, 1], [1, 2]), message_func, simple_reduce )\n",
        "h.ndata['x']"
      ],
      "metadata": {
        "colab": {
          "base_uri": "https://localhost:8080/"
        },
        "id": "w8WTTtIqD8V0",
        "outputId": "d8a6ad55-e0ca-4d59-fc3b-7d11139ee74c"
      },
      "execution_count": 41,
      "outputs": [
        {
          "output_type": "execute_result",
          "data": {
            "text/plain": [
              "tensor([[0., 0.],\n",
              "        [1., 1.],\n",
              "        [1., 1.],\n",
              "        [0., 0.],\n",
              "        [0., 0.]])"
            ]
          },
          "metadata": {},
          "execution_count": 41
        }
      ]
    },
    {
      "cell_type": "code",
      "source": [
        "h = dgl.graph(([0, 1, 2, 3], [1, 2, 3, 4]))\n",
        "h.ndata['h'] = torch.ones(5, 2)\n",
        "message_func = dgl.function.copy_u('h', 'm')\n",
        "h.pull([0, 3], message_func , fn.sum('m', 'x'))\n",
        "\n",
        "h.ndata['x']"
      ],
      "metadata": {
        "colab": {
          "base_uri": "https://localhost:8080/"
        },
        "id": "Djht_QQGLtRZ",
        "outputId": "c6d01cb5-18eb-49a4-db94-e41a97af5221"
      },
      "execution_count": 42,
      "outputs": [
        {
          "output_type": "execute_result",
          "data": {
            "text/plain": [
              "tensor([[0., 0.],\n",
              "        [0., 0.],\n",
              "        [0., 0.],\n",
              "        [1., 1.],\n",
              "        [0., 0.]])"
            ]
          },
          "metadata": {},
          "execution_count": 42
        }
      ]
    },
    {
      "cell_type": "code",
      "source": [
        "h = dgl.graph(([0, 1, 2, 3], [1, 2, 3, 4]))\n",
        "h.ndata['h'] = torch.ones(5, 2)\n",
        "message_func = dgl.function.copy_u('h', 'm')\n",
        "h.push([0, 3], message_func , fn.sum('m', 'x'))\n",
        "\n",
        "h.ndata['x']"
      ],
      "metadata": {
        "colab": {
          "base_uri": "https://localhost:8080/"
        },
        "id": "eYAUmLpPMAyQ",
        "outputId": "70239d6a-6ee4-4c06-ec5b-7f7d6736f8b0"
      },
      "execution_count": 43,
      "outputs": [
        {
          "output_type": "execute_result",
          "data": {
            "text/plain": [
              "tensor([[0., 0.],\n",
              "        [1., 1.],\n",
              "        [0., 0.],\n",
              "        [0., 0.],\n",
              "        [1., 1.]])"
            ]
          },
          "metadata": {},
          "execution_count": 43
        }
      ]
    },
    {
      "cell_type": "code",
      "source": [
        "h = dgl.graph(([0, 1, 2], [1, 3, 3]))\n",
        "h.ndata['h'] = torch.ones(4, 2)\n",
        "message_func = dgl.function.copy_u('h', 'm')\n",
        "h.update_all(message_func , fn.sum('m', 'x'))\n",
        "\n",
        "h.ndata['x']\n",
        "\n",
        "#node 0 and 2 have no  upadata feature because they have no input\n",
        "#node 3 has two input"
      ],
      "metadata": {
        "colab": {
          "base_uri": "https://localhost:8080/"
        },
        "id": "Mrl32F9KMI8I",
        "outputId": "47a568b0-6652-4ebf-d4b3-ccf35f2f07ce"
      },
      "execution_count": 86,
      "outputs": [
        {
          "output_type": "execute_result",
          "data": {
            "text/plain": [
              "tensor([[0., 0.],\n",
              "        [1., 1.],\n",
              "        [0., 0.],\n",
              "        [2., 2.]])"
            ]
          },
          "metadata": {},
          "execution_count": 86
        }
      ]
    },
    {
      "cell_type": "markdown",
      "source": [
        "dgl.function.copy_e"
      ],
      "metadata": {
        "id": "2_CdfzePMcDb"
      }
    },
    {
      "cell_type": "code",
      "source": [
        "h = dgl.graph(([0, 1, 2], [1, 3, 3]))\n",
        "h.edata['h'] = torch.ones(3, 2)\n",
        "message_func = dgl.function.copy_e('h', 'm')\n",
        "h.update_all(message_func , fn.sum('m', 'x'))\n",
        "\n",
        "h.ndata['x']"
      ],
      "metadata": {
        "colab": {
          "base_uri": "https://localhost:8080/"
        },
        "id": "hUuJvwFzNPRY",
        "outputId": "0d165d88-3999-41c5-8fd6-86ed1bb1fe37"
      },
      "execution_count": 88,
      "outputs": [
        {
          "output_type": "execute_result",
          "data": {
            "text/plain": [
              "tensor([[0., 0.],\n",
              "        [1., 1.],\n",
              "        [0., 0.],\n",
              "        [2., 2.]])"
            ]
          },
          "metadata": {},
          "execution_count": 88
        }
      ]
    },
    {
      "cell_type": "markdown",
      "source": [
        "dgl.function.u_add_v"
      ],
      "metadata": {
        "id": "DSOR02FGaHPh"
      }
    },
    {
      "cell_type": "code",
      "source": [
        "#Builtin message function that computes a message on an edge by performing element-wise add between features of u and v if the features have the same shape\n",
        "h = dgl.graph(([0, 1, 2], [1, 3, 3]))\n",
        "h.ndata['h'] = torch.ones(4, 2)\n",
        "message_func = dgl.function.u_add_v('h', 'h', 'm')\n",
        "h.update_all(message_func , fn.sum('m', 'x'))\n",
        "\n",
        "#features of node 0 ADD TO feature of node 1 ---> updata feature of node 1\n",
        "#features of node 1 ADD TO feature of node 3 ---> updata feature of node 3\n",
        "#features of node 2 ADD TO feature of node 3 ---> updata feature of node 3\n",
        "#updata feature of node 3 + updata feature of node 3\n",
        "h.ndata['x']"
      ],
      "metadata": {
        "colab": {
          "base_uri": "https://localhost:8080/"
        },
        "id": "md00bxdvZqoc",
        "outputId": "3aeee072-9850-4ca4-d505-39dba7bcc39a"
      },
      "execution_count": 90,
      "outputs": [
        {
          "output_type": "execute_result",
          "data": {
            "text/plain": [
              "tensor([[0., 0.],\n",
              "        [2., 2.],\n",
              "        [0., 0.],\n",
              "        [4., 4.]])"
            ]
          },
          "metadata": {},
          "execution_count": 90
        }
      ]
    },
    {
      "cell_type": "markdown",
      "source": [
        "dgl.function.u_mul_v"
      ],
      "metadata": {
        "id": "hSkYZ-q9bmuW"
      }
    },
    {
      "cell_type": "code",
      "source": [
        "#Builtin message function that computes a message on an edge by performing element-wise mul between features of u and v if the features have the same shape;\n",
        "h = dgl.graph(([0, 1, 2], [1, 3, 3]))\n",
        "h.ndata['h'] = torch.ones(4, 2)\n",
        "message_func = dgl.function.u_mul_v('h', 'h', 'm')\n",
        "h.update_all(message_func , fn.sum('m', 'x'))\n",
        "\n",
        "#features of node 0 * feature of node 1 ---> updata feature of node 1\n",
        "#features of node 1 * feature of node 3 ---> updata feature of node 3\n",
        "#features of node 2 * feature of node 3 ---> updata feature of node 3\n",
        "#updata feature of node 3 + updata feature of node 3\n",
        "h.ndata['x']"
      ],
      "metadata": {
        "colab": {
          "base_uri": "https://localhost:8080/"
        },
        "id": "dTyrt0HHaxB7",
        "outputId": "5a68d6e9-e3fe-4f5c-b91a-63e62a46b597"
      },
      "execution_count": 91,
      "outputs": [
        {
          "output_type": "execute_result",
          "data": {
            "text/plain": [
              "tensor([[0., 0.],\n",
              "        [1., 1.],\n",
              "        [0., 0.],\n",
              "        [2., 2.]])"
            ]
          },
          "metadata": {},
          "execution_count": 91
        }
      ]
    },
    {
      "cell_type": "markdown",
      "source": [
        "dgl.function.u_add_e"
      ],
      "metadata": {
        "id": "UszxKcaZdM-e"
      }
    },
    {
      "cell_type": "code",
      "source": [
        "#Builtin message function that computes a message on an edge by performing element-wise add between features of u and e if the features have the same shape; otherwise, it first broadcasts the features to a new shape and performs the element-wise operation.\n",
        "h = dgl.graph(([0, 1, 2], [1, 3, 3]))\n",
        "h.ndata['h'] = torch.ones(4, 2)\n",
        "h.edata['h'] = torch.ones(3, 2)\n",
        "message_func = dgl.function.u_add_e('h', 'h', 'm')\n",
        "h.update_all(message_func , fn.sum('m', 'x'))\n",
        "\n",
        "#features of node 0 ADD TO feature of edge(0, 1) ---> updata feature of node 1\n",
        "#features of node 1 ADD TO feature of edge(1, 3)---> updata feature of node 3\n",
        "#features of node 2 ADD TO * feature of edge(2, 3) ---> updata feature of node 3\n",
        "#updata feature of node 3 + updata feature of node 3\n",
        "h.ndata['x']"
      ],
      "metadata": {
        "colab": {
          "base_uri": "https://localhost:8080/"
        },
        "id": "dw1hByUdby0c",
        "outputId": "7146a82d-e72d-40ca-d259-cf024ea21b43"
      },
      "execution_count": 94,
      "outputs": [
        {
          "output_type": "execute_result",
          "data": {
            "text/plain": [
              "tensor([[0., 0.],\n",
              "        [2., 2.],\n",
              "        [0., 0.],\n",
              "        [4., 4.]])"
            ]
          },
          "metadata": {},
          "execution_count": 94
        }
      ]
    },
    {
      "cell_type": "markdown",
      "source": [
        "dgl.function.u_mul_e"
      ],
      "metadata": {
        "id": "asMudiFveeMU"
      }
    },
    {
      "cell_type": "code",
      "source": [
        "#Builtin message function that computes a message on an edge by performing element-wise mul between features of u and e if the features have the same shape; otherwise, it first broadcasts the features to a new shape and performs the element-wise operation.\n",
        "h = dgl.graph(([0, 1, 2], [1, 3, 3]))\n",
        "h.ndata['h'] = torch.ones(4, 2)\n",
        "h.edata['h'] = torch.ones(3, 2)\n",
        "message_func = dgl.function.u_mul_e('h', 'h', 'm')\n",
        "h.update_all(message_func , fn.sum('m', 'x'))\n",
        "\n",
        "#features of node 0 * feature of edge(0, 1) ---> updata feature of node 1\n",
        "#features of node 1 * feature of edge(1, 3)---> updata feature of node 3\n",
        "#features of node 2 * feature of edge(2, 3) ---> updata feature of node 3\n",
        "#updata feature of node 3 + updata feature of node 3\n",
        "h.ndata['x']"
      ],
      "metadata": {
        "colab": {
          "base_uri": "https://localhost:8080/"
        },
        "id": "L1SU49d7dplz",
        "outputId": "ff891b07-f6d3-4e76-b07b-4650a353fb22"
      },
      "execution_count": 95,
      "outputs": [
        {
          "output_type": "execute_result",
          "data": {
            "text/plain": [
              "tensor([[0., 0.],\n",
              "        [1., 1.],\n",
              "        [0., 0.],\n",
              "        [2., 2.]])"
            ]
          },
          "metadata": {},
          "execution_count": 95
        }
      ]
    },
    {
      "cell_type": "markdown",
      "source": [
        "dgl.function.v_add_u"
      ],
      "metadata": {
        "id": "7uPuG2QcfIxM"
      }
    },
    {
      "cell_type": "code",
      "source": [
        "#Builtin message function that computes a message on an edge by performing element-wise add between features of v and u if the features have the same shape; otherwise, it first broadcasts the features to a new shape and performs the element-wise operation.\n",
        "h = dgl.graph(([0, 1, 2], [1, 3, 3]))\n",
        "h.ndata['h'] = torch.ones(4, 2)\n",
        "message_func = dgl.function.v_add_u('h', 'h', 'm')\n",
        "h.update_all(message_func , fn.sum('m', 'x'))\n",
        "\n",
        "#features of node 1 ADD TO feature of edge node 0 ---> updata feature of node 1\n",
        "#features of node 3 ADD TO  feature of node 1 ---> updata feature of node 3\n",
        "#features of node 3 ADD TO  feature of node 2 ---> updata feature of node 3\n",
        "#updata feature of node 3 + updata feature of node 3\n",
        "h.ndata['x']\n",
        "\n",
        "#Same as u add v ??"
      ],
      "metadata": {
        "colab": {
          "base_uri": "https://localhost:8080/"
        },
        "id": "K5ihl4oJezUc",
        "outputId": "6263f240-5def-49e6-f9e6-ee1d82a171e9"
      },
      "execution_count": 96,
      "outputs": [
        {
          "output_type": "execute_result",
          "data": {
            "text/plain": [
              "tensor([[0., 0.],\n",
              "        [2., 2.],\n",
              "        [0., 0.],\n",
              "        [4., 4.]])"
            ]
          },
          "metadata": {},
          "execution_count": 96
        }
      ]
    },
    {
      "cell_type": "markdown",
      "source": [
        "dgl.function.v_mul_u"
      ],
      "metadata": {
        "id": "jxlzWJfagcHx"
      }
    },
    {
      "cell_type": "code",
      "source": [
        "#Builtin message function that computes a message on an edge by performing element-wise mul between features of v and u if the features have the same shape; otherwise, it first broadcasts the features to a new shape and performs the element-wise operation.\n",
        "h = dgl.graph(([0, 1, 2], [1, 3, 3]))\n",
        "h.ndata['h'] = torch.ones(4, 2)\n",
        "message_func = dgl.function.v_mul_u('h', 'h', 'm')\n",
        "h.update_all(message_func , fn.sum('m', 'x'))\n",
        "\n",
        "#features of node 1 * feature of node 0 ---> updata feature of node 1\n",
        "#features of node 3 * feature of node 1 ---> updata feature of node 3\n",
        "#features of node 3 * feature of node 2 ---> updata feature of node 3\n",
        "#updata feature of node 3 + updata feature of node 3\n",
        "h.ndata['x']"
      ],
      "metadata": {
        "colab": {
          "base_uri": "https://localhost:8080/"
        },
        "id": "vPgfqBm6fVLB",
        "outputId": "666605fd-1f43-46fc-b982-693ba421a508"
      },
      "execution_count": 97,
      "outputs": [
        {
          "output_type": "execute_result",
          "data": {
            "text/plain": [
              "tensor([[0., 0.],\n",
              "        [1., 1.],\n",
              "        [0., 0.],\n",
              "        [2., 2.]])"
            ]
          },
          "metadata": {},
          "execution_count": 97
        }
      ]
    },
    {
      "cell_type": "markdown",
      "source": [
        "dgl.function.v_add_e"
      ],
      "metadata": {
        "id": "x21YMvxihBoD"
      }
    },
    {
      "cell_type": "code",
      "source": [
        "#Builtin message function that computes a message on an edge by performing element-wise add between features of v and e if the features have the same shape; otherwise, it first broadcasts the features to a new shape and performs the element-wise operation.\n",
        "h = dgl.graph(([0, 1, 2], [1, 3, 3]))\n",
        "h.ndata['h'] = torch.ones(4, 2)\n",
        "h.edata['h'] = torch.ones(3, 2)\n",
        "message_func = dgl.function.v_add_e('h', 'h', 'm')\n",
        "h.update_all(message_func , fn.sum('m', 'x'))\n",
        "\n",
        "#features of node 1 ADD TO feature of edge(0, 1) ---> updata feature of node 1\n",
        "#features of node 3 ADD TO feature of edge(1, 3)---> updata feature of node 3\n",
        "#features of node 3 ADD TO * feature of edge(2, 3) ---> updata feature of node 3\n",
        "#updata feature of node 3 + updata feature of node 3\n",
        "h.ndata['x']"
      ],
      "metadata": {
        "colab": {
          "base_uri": "https://localhost:8080/"
        },
        "id": "P7gsxBklhCuo",
        "outputId": "c0145520-8816-43c6-d0a3-40846b791a7d"
      },
      "execution_count": 99,
      "outputs": [
        {
          "output_type": "execute_result",
          "data": {
            "text/plain": [
              "tensor([[0., 0.],\n",
              "        [2., 2.],\n",
              "        [0., 0.],\n",
              "        [4., 4.]])"
            ]
          },
          "metadata": {},
          "execution_count": 99
        }
      ]
    },
    {
      "cell_type": "markdown",
      "source": [
        "dgl.function.v_mul_e"
      ],
      "metadata": {
        "id": "4u_mLnP7hYvK"
      }
    },
    {
      "cell_type": "code",
      "source": [
        "#Builtin message function that computes a message on an edge by performing element-wise mul between features of v and e if the features have the same shape; otherwise, it first broadcasts the features to a new shape and performs the element-wise operation.\n",
        "h = dgl.graph(([0, 1, 2], [1, 3, 3]))\n",
        "h.ndata['h'] = torch.ones(4, 2)\n",
        "h.edata['h'] = torch.ones(3, 2)\n",
        "message_func = dgl.function.v_mul_e('h', 'h', 'm')\n",
        "h.update_all(message_func , fn.sum('m', 'x'))\n",
        "\n",
        "#features of node 1 * feature of edge(0, 1) ---> updata feature of node 1\n",
        "#features of node 3 * feature of edge(1, 3)---> updata feature of node 3\n",
        "#features of node 3 * feature of edge(2, 3) ---> updata feature of node 3\n",
        "#updata feature of node 3 + updata feature of node 3\n",
        "h.ndata['x']"
      ],
      "metadata": {
        "colab": {
          "base_uri": "https://localhost:8080/"
        },
        "id": "ERhjUdzfhPBA",
        "outputId": "ecc45755-d6f5-4a1b-ff8c-d5d35da3fc9b"
      },
      "execution_count": 100,
      "outputs": [
        {
          "output_type": "execute_result",
          "data": {
            "text/plain": [
              "tensor([[0., 0.],\n",
              "        [1., 1.],\n",
              "        [0., 0.],\n",
              "        [2., 2.]])"
            ]
          },
          "metadata": {},
          "execution_count": 100
        }
      ]
    },
    {
      "cell_type": "code",
      "source": [],
      "metadata": {
        "id": "PVMjjhbJhi3H"
      },
      "execution_count": null,
      "outputs": []
    }
  ]
}